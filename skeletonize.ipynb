{
 "cells": [
  {
   "cell_type": "code",
   "execution_count": 2,
   "metadata": {},
   "outputs": [],
   "source": [
    "import napari\n",
    "import skimage as sk\n",
    "from scipy.ndimage import gaussian_filter\n",
    "import numpy as np\n",
    "import matplotlib.pyplot as plt\n",
    "import cv2 as cv"
   ]
  },
  {
   "cell_type": "code",
   "execution_count": 3,
   "metadata": {},
   "outputs": [],
   "source": [
    "im = sk.io.imread('./domes/Dome103_raw.tif')\n",
    "im = im[1:, :,:] # remove the first image due to its blurriness"
   ]
  },
  {
   "cell_type": "code",
   "execution_count": 4,
   "metadata": {},
   "outputs": [
    {
     "name": "stdout",
     "output_type": "stream",
     "text": [
      "160\r"
     ]
    }
   ],
   "source": [
    "# fig, ax = plt.subplot_mosaic([\n",
    "#     ['1', '2']\n",
    "# ], figsize=(30,20))\n",
    "\n",
    "\n",
    "mask = np.empty((0,im.shape[1], im.shape[2])) # empty np array that has 0 Z , 2048 Y , 2048 X\n",
    "c = 1\n",
    "for i in im: # Iterate over each YX plane of the image\n",
    "    i = i.astype(np.uint8)\n",
    "    gaussian = gaussian_filter(i, sigma=1)\n",
    "    median = sk.filters.rank.median(gaussian, sk.morphology.star(10))\n",
    "    # median = median.astype(np.uint8)\n",
    "    th3 = cv.adaptiveThreshold(median, 255, cv.ADAPTIVE_THRESH_GAUSSIAN_C, cv.THRESH_BINARY, 55, -1) # Needs uint8 to make the asaptive threshold mask\n",
    "    #ax['1'].imshow(median)\n",
    "    #ax['2'].imshow(th3)\n",
    "    mask = np.append(mask, np.array(th3))\n",
    "    # break\n",
    "    print(c, end=\"\\r\")\n",
    "    c+=1\n",
    "    \n"
   ]
  },
  {
   "cell_type": "code",
   "execution_count": 5,
   "metadata": {},
   "outputs": [],
   "source": [
    "skeleton = np.empty((0,im.shape[1], im.shape[2])) # empty np array that has 0 Z , 2048 Y , 2048 X\n",
    "mask = np.reshape(mask, (160, 2048, 2048))\n",
    "for i in mask:\n",
    "    i = sk.morphology.skeletonize(i)\n",
    "    skeleton = np.append(skeleton, np.array(i))\n",
    "skeleton = np.reshape(skeleton, (160, 2048, 2048))"
   ]
  },
  {
   "cell_type": "code",
   "execution_count": 1,
   "metadata": {},
   "outputs": [
    {
     "ename": "NameError",
     "evalue": "name 'napari' is not defined",
     "output_type": "error",
     "traceback": [
      "\u001b[1;31m---------------------------------------------------------------------------\u001b[0m",
      "\u001b[1;31mNameError\u001b[0m                                 Traceback (most recent call last)",
      "\u001b[1;32md:\\Python_vscode\\skeletonize.ipynb Cell 5\u001b[0m line \u001b[0;36m1\n\u001b[1;32m----> <a href='vscode-notebook-cell:/d%3A/Python_vscode/skeletonize.ipynb#W4sZmlsZQ%3D%3D?line=0'>1</a>\u001b[0m viewer \u001b[39m=\u001b[39m napari\u001b[39m.\u001b[39mViewer()\n\u001b[0;32m      <a href='vscode-notebook-cell:/d%3A/Python_vscode/skeletonize.ipynb#W4sZmlsZQ%3D%3D?line=1'>2</a>\u001b[0m \u001b[39m#viewer.add_image(skeleton)\u001b[39;00m\n\u001b[0;32m      <a href='vscode-notebook-cell:/d%3A/Python_vscode/skeletonize.ipynb#W4sZmlsZQ%3D%3D?line=2'>3</a>\u001b[0m viewer\u001b[39m.\u001b[39madd_image(mask, scale\u001b[39m=\u001b[39mnp\u001b[39m.\u001b[39marray([\u001b[39m1\u001b[39m,\u001b[39m0.1625\u001b[39m,\u001b[39m0.1625\u001b[39m]))\n",
      "\u001b[1;31mNameError\u001b[0m: name 'napari' is not defined"
     ]
    }
   ],
   "source": [
    "viewer = napari.Viewer()\n",
    "#viewer.add_image(skeleton)\n",
    "viewer.add_image(mask, scale=np.array([1,0.1625,0.1625]))\n",
    "#viewer.add_image(im)"
   ]
  }
 ],
 "metadata": {
  "kernelspec": {
   "display_name": "pynapari",
   "language": "python",
   "name": "python3"
  },
  "language_info": {
   "codemirror_mode": {
    "name": "ipython",
    "version": 3
   },
   "file_extension": ".py",
   "mimetype": "text/x-python",
   "name": "python",
   "nbconvert_exporter": "python",
   "pygments_lexer": "ipython3",
   "version": "3.11.6"
  }
 },
 "nbformat": 4,
 "nbformat_minor": 2
}
