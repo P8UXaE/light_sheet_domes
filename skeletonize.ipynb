{
 "cells": [
  {
   "cell_type": "code",
   "execution_count": 2,
   "metadata": {},
   "outputs": [],
   "source": [
    "import napari\n",
    "import skimage as sk\n",
    "from scipy.ndimage import gaussian_filter\n",
    "import numpy as np\n",
    "import matplotlib.pyplot as plt\n",
    "import cv2 as cv"
   ]
  },
  {
   "cell_type": "code",
   "execution_count": 3,
   "metadata": {},
   "outputs": [],
   "source": [
    "im = sk.io.imread('./domes/Dome103_raw.tif')\n",
    "im = im[1:, :,:] # remove the first image due to its blurriness"
   ]
  },
  {
   "cell_type": "code",
   "execution_count": 4,
   "metadata": {},
   "outputs": [
    {
     "name": "stdout",
     "output_type": "stream",
     "text": [
      "160\r"
     ]
    }
   ],
   "source": [
    "# fig, ax = plt.subplot_mosaic([\n",
    "#     ['1', '2']\n",
    "# ], figsize=(30,20))\n",
    "\n",
    "\n",
    "mask = np.empty((0,im.shape[1], im.shape[2])) # empty np array that has 0 Z , 2048 Y , 2048 X\n",
    "c = 1\n",
    "for i in im: # Iterate over each YX plane of the image\n",
    "    i = i.astype(np.uint8)\n",
    "    gaussian = gaussian_filter(i, sigma=1)\n",
    "    median = sk.filters.rank.median(gaussian, sk.morphology.star(10))\n",
    "    # median = median.astype(np.uint8)\n",
    "    th3 = cv.adaptiveThreshold(median, 255, cv.ADAPTIVE_THRESH_GAUSSIAN_C, cv.THRESH_BINARY, 55, -1) # Needs uint8 to make the asaptive threshold mask\n",
    "    #ax['1'].imshow(median)\n",
    "    #ax['2'].imshow(th3)\n",
    "    mask = np.append(mask, np.array(th3))\n",
    "    # break\n",
    "    print(c, end=\"\\r\")\n",
    "    c+=1\n",
    "    \n"
   ]
  },
  {
   "cell_type": "code",
   "execution_count": 5,
   "metadata": {},
   "outputs": [],
   "source": [
    "skeleton = np.empty((0,im.shape[1], im.shape[2])) # empty np array that has 0 Z , 2048 Y , 2048 X\n",
    "mask = np.reshape(mask, (160, 2048, 2048))\n",
    "for i in mask:\n",
    "    i = sk.morphology.skeletonize(i)\n",
    "    skeleton = np.append(skeleton, np.array(i))\n",
    "skeleton = np.reshape(skeleton, (160, 2048, 2048))"
   ]
  },
  {
   "cell_type": "code",
   "execution_count": 7,
   "metadata": {},
   "outputs": [
    {
     "data": {
      "text/plain": [
       "<Image layer 'mask' at 0x2cfd201c890>"
      ]
     },
     "execution_count": 7,
     "metadata": {},
     "output_type": "execute_result"
    }
   ],
   "source": [
    "viewer = napari.Viewer()\n",
    "#viewer.add_image(skeleton)\n",
    "viewer.add_image(mask, scale=np.array([1,0.1625,0.1625]))\n",
    "#viewer.add_image(im)"
   ]
  }
 ],
 "metadata": {
  "kernelspec": {
   "display_name": "pynapari",
   "language": "python",
   "name": "python3"
  },
  "language_info": {
   "codemirror_mode": {
    "name": "ipython",
    "version": 3
   },
   "file_extension": ".py",
   "mimetype": "text/x-python",
   "name": "python",
   "nbconvert_exporter": "python",
   "pygments_lexer": "ipython3",
   "version": "3.11.6"
  }
 },
 "nbformat": 4,
 "nbformat_minor": 2
}
