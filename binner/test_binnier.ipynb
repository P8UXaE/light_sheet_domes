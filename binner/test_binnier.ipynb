{
 "cells": [
  {
   "cell_type": "code",
   "execution_count": 5,
   "metadata": {},
   "outputs": [
    {
     "name": "stdout",
     "output_type": "stream",
     "text": [
      "1.   Single 2D image\n",
      "Your image has 2 dimensions. It contains 2 spatial dimensions. Time is False.\n",
      "Finish test. It took 4.95 seconds\n",
      "2.   Multiple 2D image\n",
      "Your image has 3 dimensions. It contains 2 spatial dimensions. Time is True.\n"
     ]
    },
    {
     "ename": "KeyboardInterrupt",
     "evalue": "",
     "output_type": "error",
     "traceback": [
      "\u001b[1;31m---------------------------------------------------------------------------\u001b[0m",
      "\u001b[1;31mKeyboardInterrupt\u001b[0m                         Traceback (most recent call last)",
      "\u001b[1;32md:\\Python_vscode\\binner\\test_binnier.ipynb Cell 1\u001b[0m line \u001b[0;36m2\n\u001b[0;32m     <a href='vscode-notebook-cell:/d%3A/Python_vscode/binner/test_binnier.ipynb#W1sZmlsZQ%3D%3D?line=20'>21</a>\u001b[0m dots2 \u001b[39m=\u001b[39m imbin(image[\u001b[39m4\u001b[39m], is2D\u001b[39m=\u001b[39m\u001b[39mTrue\u001b[39;00m)\n\u001b[0;32m     <a href='vscode-notebook-cell:/d%3A/Python_vscode/binner/test_binnier.ipynb#W1sZmlsZQ%3D%3D?line=21'>22</a>\u001b[0m dots2\u001b[39m.\u001b[39mhi()\n\u001b[1;32m---> <a href='vscode-notebook-cell:/d%3A/Python_vscode/binner/test_binnier.ipynb#W1sZmlsZQ%3D%3D?line=22'>23</a>\u001b[0m dots2\u001b[39m.\u001b[39;49mget_mask(binshape\u001b[39m=\u001b[39;49m(\u001b[39m2\u001b[39;49m,\u001b[39m2\u001b[39;49m), times\u001b[39m=\u001b[39;49m\u001b[39m3\u001b[39;49m, v\u001b[39m=\u001b[39;49m\u001b[39m'\u001b[39;49m\u001b[39m+\u001b[39;49m\u001b[39m'\u001b[39;49m)\n\u001b[0;32m     <a href='vscode-notebook-cell:/d%3A/Python_vscode/binner/test_binnier.ipynb#W1sZmlsZQ%3D%3D?line=23'>24</a>\u001b[0m time_end_2 \u001b[39m=\u001b[39m time\u001b[39m.\u001b[39mperf_counter()\n\u001b[0;32m     <a href='vscode-notebook-cell:/d%3A/Python_vscode/binner/test_binnier.ipynb#W1sZmlsZQ%3D%3D?line=24'>25</a>\u001b[0m \u001b[39mprint\u001b[39m(\u001b[39mf\u001b[39m\u001b[39m\"\u001b[39m\u001b[39mFinish test. It took \u001b[39m\u001b[39m{\u001b[39;00mtime_end_2\u001b[39m-\u001b[39mtime_start_2\u001b[39m:\u001b[39;00m\u001b[39m.2f\u001b[39m\u001b[39m}\u001b[39;00m\u001b[39m seconds\u001b[39m\u001b[39m\"\u001b[39m)\n",
      "File \u001b[1;32md:\\Python_vscode\\binner\\binner\\binnier_class.py:580\u001b[0m, in \u001b[0;36mimbin.get_mask\u001b[1;34m(self, morph_close_k, morph_open_k, m_ball, times, binshape, v)\u001b[0m\n\u001b[0;32m    577\u001b[0m mask \u001b[39m=\u001b[39m []\n\u001b[0;32m    579\u001b[0m \u001b[39mif\u001b[39;00m \u001b[39mself\u001b[39m\u001b[39m.\u001b[39mdotted_image \u001b[39mis\u001b[39;00m \u001b[39mNone\u001b[39;00m:\n\u001b[1;32m--> 580\u001b[0m     \u001b[39mself\u001b[39m\u001b[39m.\u001b[39mdotted_image \u001b[39m=\u001b[39m \u001b[39mself\u001b[39;49m\u001b[39m.\u001b[39;49mconv_deconv(times, binshape, v)\n\u001b[0;32m    584\u001b[0m \u001b[39mif\u001b[39;00m \u001b[39mself\u001b[39m\u001b[39m.\u001b[39msDim \u001b[39m==\u001b[39m \u001b[39m2\u001b[39m \u001b[39mand\u001b[39;00m \u001b[39mself\u001b[39m\u001b[39m.\u001b[39mtime_dim \u001b[39mis\u001b[39;00m \u001b[39mFalse\u001b[39;00m: \u001b[39m### CASE 2 SPACE DIMS AND 0 TIME DIMS\u001b[39;00m\n\u001b[0;32m    585\u001b[0m     coords \u001b[39m=\u001b[39m \u001b[39mself\u001b[39m\u001b[39m.\u001b[39mget_coords(\u001b[39mself\u001b[39m\u001b[39m.\u001b[39mdotted_image) \n",
      "File \u001b[1;32md:\\Python_vscode\\binner\\binner\\binnier_class.py:406\u001b[0m, in \u001b[0;36mimbin.conv_deconv\u001b[1;34m(self, times, binshape, v)\u001b[0m\n\u001b[0;32m    404\u001b[0m total \u001b[39m=\u001b[39m \u001b[39mself\u001b[39m\u001b[39m.\u001b[39mim\u001b[39m.\u001b[39mshape[\u001b[39m0\u001b[39m]\n\u001b[0;32m    405\u001b[0m \u001b[39mfor\u001b[39;00m i \u001b[39min\u001b[39;00m \u001b[39mself\u001b[39m\u001b[39m.\u001b[39mim: \u001b[39m# Do the convolution process for every image\u001b[39;00m\n\u001b[1;32m--> 406\u001b[0m     output\u001b[39m.\u001b[39mappend(\u001b[39mself\u001b[39;49m\u001b[39m.\u001b[39;49m__conv_deconv_process_2D(i, times, binshape))\n\u001b[0;32m    407\u001b[0m     counter \u001b[39m+\u001b[39m\u001b[39m=\u001b[39m \u001b[39m1\u001b[39m\n\u001b[0;32m    408\u001b[0m     \u001b[39mprint\u001b[39m(\u001b[39mf\u001b[39m\u001b[39m\"\u001b[39m\u001b[39m{\u001b[39;00mcounter\u001b[39m}\u001b[39;00m\u001b[39m/\u001b[39m\u001b[39m{\u001b[39;00mtotal\u001b[39m}\u001b[39;00m\u001b[39m\"\u001b[39m, end\u001b[39m=\u001b[39m\u001b[39m\"\u001b[39m\u001b[39m\\r\u001b[39;00m\u001b[39m\"\u001b[39m) \u001b[39mif\u001b[39;00m v \u001b[39m>\u001b[39m \u001b[39m0\u001b[39m \u001b[39melse\u001b[39;00m \u001b[39mNone\u001b[39;00m\n",
      "File \u001b[1;32md:\\Python_vscode\\binner\\binner\\binnier_class.py:272\u001b[0m, in \u001b[0;36mimbin.__conv_deconv_process_2D\u001b[1;34m(self, i, times, binshape, v)\u001b[0m\n\u001b[0;32m    269\u001b[0m \u001b[39mprint\u001b[39m(\u001b[39mf\u001b[39m\u001b[39m\"\u001b[39m\u001b[39mConvolving: \u001b[39m\u001b[39m{\u001b[39;00mc\u001b[39m+\u001b[39m\u001b[39m1\u001b[39m\u001b[39m}\u001b[39;00m\u001b[39m/\u001b[39m\u001b[39m{\u001b[39;00mtimes\u001b[39m}\u001b[39;00m\u001b[39m\"\u001b[39m) \u001b[39mif\u001b[39;00m v \u001b[39m>\u001b[39m \u001b[39m0\u001b[39m \u001b[39melse\u001b[39;00m \u001b[39mNone\u001b[39;00m\n\u001b[0;32m    270\u001b[0m \u001b[39mif\u001b[39;00m c \u001b[39m==\u001b[39m \u001b[39m0\u001b[39m:\n\u001b[1;32m--> 272\u001b[0m     pool_n, maxList_n, _ \u001b[39m=\u001b[39m \u001b[39mself\u001b[39;49m\u001b[39m.\u001b[39;49m__poolAndMax2D(i, binshape\u001b[39m=\u001b[39;49mbinshape)\n\u001b[0;32m    273\u001b[0m \u001b[39melse\u001b[39;00m:\n\u001b[0;32m    274\u001b[0m     pool_n, maxList_n, _ \u001b[39m=\u001b[39m \u001b[39mself\u001b[39m\u001b[39m.\u001b[39m__poolAndMax2D(poolList[c\u001b[39m-\u001b[39m\u001b[39m1\u001b[39m], binshape\u001b[39m=\u001b[39mbinshape)\n",
      "File \u001b[1;32md:\\Python_vscode\\binner\\binner\\binnier_class.py:135\u001b[0m, in \u001b[0;36mimbin.__poolAndMax2D\u001b[1;34m(self, input, binshape, v)\u001b[0m\n\u001b[0;32m    132\u001b[0m patch \u001b[39m=\u001b[39m \u001b[39minput\u001b[39m[y:y\u001b[39m+\u001b[39mbinshape[\u001b[39m0\u001b[39m], x:x\u001b[39m+\u001b[39mbinshape[\u001b[39m1\u001b[39m]] \u001b[39m# Create the patch of pool dimension\u001b[39;00m\n\u001b[0;32m    133\u001b[0m poolList\u001b[39m.\u001b[39mappend(patch\u001b[39m.\u001b[39mmax()) \u001b[39m# Get the max value of the patch and append it to the list\u001b[39;00m\n\u001b[1;32m--> 135\u001b[0m indices \u001b[39m=\u001b[39m np\u001b[39m.\u001b[39;49munravel_index(np\u001b[39m.\u001b[39;49margmax(patch), patch\u001b[39m.\u001b[39;49mshape) \u001b[39m# Find the indices of the max value\u001b[39;00m\n\u001b[0;32m    136\u001b[0m maxList[\u001b[39mint\u001b[39m(y \u001b[39m/\u001b[39m binshape[\u001b[39m0\u001b[39m])][\u001b[39mint\u001b[39m(x \u001b[39m/\u001b[39m binshape[\u001b[39m1\u001b[39m])] \u001b[39m=\u001b[39m (y \u001b[39m+\u001b[39m indices[\u001b[39m0\u001b[39m], x \u001b[39m+\u001b[39m indices[\u001b[39m1\u001b[39m]) \u001b[39m# Add the coordinates in the position of the patch in the list\u001b[39;00m\n\u001b[0;32m    138\u001b[0m c\u001b[39m+\u001b[39m\u001b[39m=\u001b[39m\u001b[39m1\u001b[39m\n",
      "\u001b[1;31mKeyboardInterrupt\u001b[0m: "
     ]
    }
   ],
   "source": [
    "#### FINAL TEST ####\n",
    "import skimage as sk\n",
    "from binner import imbin\n",
    "import time\n",
    "\n",
    "image = sk.io.imread('./../domes/domes_n2v/70_denoised.tif') # 4D image\n",
    "\n",
    "# Single 2D image\n",
    "time_start_1 = time.perf_counter()\n",
    "print('1.   Single 2D image')\n",
    "dots1 = imbin(image[4][300], is2D=True)\n",
    "dots1.hi()\n",
    "dots1.get_mask(binshape=(2,2), times=3, v='+')\n",
    "time_end_1 = time.perf_counter()\n",
    "print(f\"Finish test. It took {time_end_1-time_start_1:.2f} seconds\")\n",
    "\n",
    "# Multiple 2D image\n",
    "time_start_2 = time.perf_counter()\n",
    "print('2.   Multiple 2D image')\n",
    "dots2 = imbin(image[4], is2D=True)\n",
    "dots2.hi()\n",
    "dots2.get_mask(binshape=(2,2), times=3, v='+')\n",
    "time_end_2 = time.perf_counter()\n",
    "print(f\"Finish test. It took {time_end_2-time_start_2:.2f} seconds\")\n",
    "\n",
    "# Single 3D image\n",
    "time_start_3 = time.perf_counter()\n",
    "print('3.   Single 3D image')\n",
    "dots3 = imbin(image[4], is2D=False)\n",
    "dots3.hi()\n",
    "dots3.get_mask(binshape=(2,2,2), times=3, v='+')\n",
    "time_end_3 = time.perf_counter()\n",
    "print(f\"Finish test. It took {time_end_3-time_start_3:.2f} seconds\")\n",
    "\n",
    "# Single 3D image as multiple 2D images\n",
    "time_start_4 = time.perf_counter()\n",
    "print('4.   Single 3D image as multiple 2D images')\n",
    "dots4 = imbin(image[4], is2D=False, treat_3D_as_2D=True)\n",
    "dots4.hi()\n",
    "dots4.get_mask(binshape=(2,2), times=3, v='+')\n",
    "time_end_4 = time.perf_counter()\n",
    "print(f\"Finish test. It took {time_end_4-time_start_4:.2f} seconds\")\n",
    "\n",
    "# Multiple 3D images\n",
    "time_start_5 = time.perf_counter()\n",
    "print('5.   Multiple 3D images')\n",
    "dots5 = imbin(image, is2D=False)\n",
    "dots5.hi()\n",
    "dots5.get_mask(binshape=(2,2,2), times=3, v='+')\n",
    "time_end_5 = time.perf_counter()\n",
    "print(f\"Finish test. It took {time_end_5-time_start_5:.2f} seconds\")\n",
    "\n",
    "# Multiple 3D image as multiple 2D images\n",
    "time_start_6 = time.perf_counter()\n",
    "print('6.   Multiple 3D image as multiple 2D images')\n",
    "dots6 = imbin(image, is2D=False, treat_3D_as_2D=True)\n",
    "dots6.hi()\n",
    "dots6.get_mask(binshape=(2,2,2), times=3, v='+')\n",
    "time_end_6 = time.perf_counter()\n",
    "print(f\"Finish test. It took {time_end_6-time_start_6:.2f} seconds\")\n",
    "\n"
   ]
  }
 ],
 "metadata": {
  "kernelspec": {
   "display_name": "pynapari",
   "language": "python",
   "name": "python3"
  },
  "language_info": {
   "codemirror_mode": {
    "name": "ipython",
    "version": 3
   },
   "file_extension": ".py",
   "mimetype": "text/x-python",
   "name": "python",
   "nbconvert_exporter": "python",
   "pygments_lexer": "ipython3",
   "version": "3.11.7"
  }
 },
 "nbformat": 4,
 "nbformat_minor": 2
}
