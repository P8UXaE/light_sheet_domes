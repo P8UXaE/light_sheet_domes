{
 "cells": [
  {
   "cell_type": "code",
   "execution_count": 1,
   "metadata": {},
   "outputs": [
    {
     "name": "stderr",
     "output_type": "stream",
     "text": [
      "2024-04-16 09:06:20.461541: I external/local_tsl/tsl/cuda/cudart_stub.cc:32] Could not find cuda drivers on your machine, GPU will not be used.\n",
      "2024-04-16 09:06:20.463938: I external/local_tsl/tsl/cuda/cudart_stub.cc:32] Could not find cuda drivers on your machine, GPU will not be used.\n",
      "2024-04-16 09:06:20.497029: I tensorflow/core/platform/cpu_feature_guard.cc:210] This TensorFlow binary is optimized to use available CPU instructions in performance-critical operations.\n",
      "To enable the following instructions: AVX2 FMA, in other operations, rebuild TensorFlow with the appropriate compiler flags.\n",
      "2024-04-16 09:06:21.097647: W tensorflow/compiler/tf2tensorrt/utils/py_utils.cc:38] TF-TRT Warning: Could not find TensorRT\n"
     ]
    }
   ],
   "source": [
    "from n2v.models import N2V\n",
    "import numpy as np\n",
    "from csbdeep.io import save_tiff_imagej_compatible\n",
    "from n2v.internals.N2V_DataGenerator import N2V_DataGenerator"
   ]
  },
  {
   "cell_type": "code",
   "execution_count": 9,
   "metadata": {},
   "outputs": [],
   "source": [
    "\n",
    "dome_path = './../../ppujol/test_n2v_linux/' # Fill with the path of the dome\n",
    "name_of_dome = '21-tp1-270.tif' # Fill with the name of the dome\n",
    "save_dome_path = './../../ppujol/test_n2v_linux/' # Fill with the path to save the dome\n",
    "name_save_dome = name_of_dome.split('.')[0]+'_denoised.tif'\n",
    "\n",
    "dims = 'YX'"
   ]
  },
  {
   "cell_type": "code",
   "execution_count": 10,
   "metadata": {},
   "outputs": [
    {
     "name": "stdout",
     "output_type": "stream",
     "text": [
      "(1, 576, 576, 1)\n"
     ]
    }
   ],
   "source": [
    "datagen = N2V_DataGenerator()\n",
    "img = datagen.load_imgs_from_directory(directory=dome_path, filter=name_of_dome, dims=dims)\n",
    "\n",
    "print(img[0].shape)"
   ]
  },
  {
   "cell_type": "code",
   "execution_count": 11,
   "metadata": {},
   "outputs": [
    {
     "name": "stdout",
     "output_type": "stream",
     "text": [
      "Loading network weights from 'weights_best.h5'.\n"
     ]
    }
   ],
   "source": [
    "model_name = '2d_images_from_stack'\n",
    "basedir = './n2v_2d_black_line/models_test/'\n",
    "model = N2V(config=None, name=model_name, basedir=basedir)"
   ]
  },
  {
   "cell_type": "code",
   "execution_count": 13,
   "metadata": {},
   "outputs": [],
   "source": [
    "def denoise2dSlice(img):\n",
    "    image = img[:, :, 0]\n",
    "    # print(image.shape)\n",
    "\n",
    "    non_zero_cols = np.any(image != 0, axis = 0)\n",
    "    first_non_zero_col = np.argmax(non_zero_cols)\n",
    "    last_non_zero_col = len(non_zero_cols) - np.argmax(non_zero_cols[::-1]) - 1\n",
    "    clean_image = image[:, first_non_zero_col:last_non_zero_col + 1]\n",
    "\n",
    "    pred = model.predict(clean_image, axes='YX')\n",
    "    full_pred = np.zeros_like(image)\n",
    "    full_pred[:, first_non_zero_col:last_non_zero_col + 1] = pred\n",
    "\n",
    "    return full_pred\n",
    "\n",
    "def denoise3d(img):\n",
    "    stack = []\n",
    "    for i in img:\n",
    "        stack.append(denoise2dSlice(i))\n",
    "    stack = np.array(stack)\n",
    "    return stack"
   ]
  },
  {
   "cell_type": "code",
   "execution_count": 15,
   "metadata": {},
   "outputs": [
    {
     "name": "stdout",
     "output_type": "stream",
     "text": [
      "\u001b[1m1/1\u001b[0m \u001b[32m━━━━━━━━━━━━━━━━━━━━\u001b[0m\u001b[37m\u001b[0m \u001b[1m1s\u001b[0m 857ms/step\n"
     ]
    }
   ],
   "source": [
    "img = img[0]\n",
    "stack = []\n",
    "\n",
    "if len(dims) == 2:\n",
    "    stack = denoise2dSlice(img=img)\n",
    "if len(dims) == 3:\n",
    "    stack = denoise3d(img=img)\n",
    "if len(dims) == 4:\n",
    "    for i in img:\n",
    "        stack.append(denoise3d(img=i))\n",
    "stack = np.array(stack)"
   ]
  },
  {
   "cell_type": "code",
   "execution_count": 16,
   "metadata": {},
   "outputs": [],
   "source": [
    "save_tiff_imagej_compatible(str(save_dome_path)+str(name_save_dome), stack, axes=dims)"
   ]
  }
 ],
 "metadata": {
  "kernelspec": {
   "display_name": "venv_tf",
   "language": "python",
   "name": "python3"
  },
  "language_info": {
   "codemirror_mode": {
    "name": "ipython",
    "version": 3
   },
   "file_extension": ".py",
   "mimetype": "text/x-python",
   "name": "python",
   "nbconvert_exporter": "python",
   "pygments_lexer": "ipython3",
   "version": "3.10.12"
  }
 },
 "nbformat": 4,
 "nbformat_minor": 2
}
