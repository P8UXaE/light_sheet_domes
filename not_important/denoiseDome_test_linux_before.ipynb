{
 "cells": [
  {
   "cell_type": "code",
   "execution_count": 1,
   "metadata": {},
   "outputs": [
    {
     "name": "stderr",
     "output_type": "stream",
     "text": [
      "2024-04-15 09:51:54.122358: I external/local_tsl/tsl/cuda/cudart_stub.cc:32] Could not find cuda drivers on your machine, GPU will not be used.\n",
      "2024-04-15 09:51:54.199643: I external/local_tsl/tsl/cuda/cudart_stub.cc:32] Could not find cuda drivers on your machine, GPU will not be used.\n",
      "2024-04-15 09:51:54.489746: I tensorflow/core/platform/cpu_feature_guard.cc:210] This TensorFlow binary is optimized to use available CPU instructions in performance-critical operations.\n",
      "To enable the following instructions: AVX2 FMA, in other operations, rebuild TensorFlow with the appropriate compiler flags.\n",
      "2024-04-15 09:51:55.230471: W tensorflow/compiler/tf2tensorrt/utils/py_utils.cc:38] TF-TRT Warning: Could not find TensorRT\n"
     ]
    }
   ],
   "source": [
    "from n2v.models import N2V\n",
    "import numpy as np\n",
    "from matplotlib import pyplot as plt\n",
    "from matplotlib.image import imread, imsave\n",
    "from csbdeep.io import save_tiff_imagej_compatible\n",
    "from n2v.internals.N2V_DataGenerator import N2V_DataGenerator"
   ]
  },
  {
   "cell_type": "code",
   "execution_count": 15,
   "metadata": {},
   "outputs": [],
   "source": [
    "\n",
    "dome_path = './../../ppujol/test_n2v_linux/' # Fill with the path of the dome\n",
    "name_of_dome = '21.tif' # Fill with the name of the dome\n",
    "save_dome_path = './../../ppujol/test_n2v_linux/' # Fill with the path to save the dome\n",
    "name_save_dome = '21_denoised.tif'"
   ]
  },
  {
   "cell_type": "code",
   "execution_count": 21,
   "metadata": {},
   "outputs": [
    {
     "name": "stderr",
     "output_type": "stream",
     "text": [
      "<tifffile.TiffFile '21-tp1.tif'> ImageJ series metadata invalid or corrupted file\n",
      "<tifffile.TiffPages @8> invalid page offset 252202865\n"
     ]
    },
    {
     "ename": "AssertionError",
     "evalue": "Number of image dimensions doesn't match 'dims'.",
     "output_type": "error",
     "traceback": [
      "\u001b[0;31m---------------------------------------------------------------------------\u001b[0m",
      "\u001b[0;31mAssertionError\u001b[0m                            Traceback (most recent call last)",
      "Cell \u001b[0;32mIn[21], line 2\u001b[0m\n\u001b[1;32m      1\u001b[0m datagen \u001b[38;5;241m=\u001b[39m N2V_DataGenerator()\n\u001b[0;32m----> 2\u001b[0m img \u001b[38;5;241m=\u001b[39m \u001b[43mdatagen\u001b[49m\u001b[38;5;241;43m.\u001b[39;49m\u001b[43mload_imgs_from_directory\u001b[49m\u001b[43m(\u001b[49m\u001b[43mdirectory\u001b[49m\u001b[38;5;241;43m=\u001b[39;49m\u001b[43mdome_path\u001b[49m\u001b[43m,\u001b[49m\u001b[43m \u001b[49m\u001b[38;5;28;43mfilter\u001b[39;49m\u001b[38;5;241;43m=\u001b[39;49m\u001b[43mname_of_dome\u001b[49m\u001b[43m,\u001b[49m\u001b[43m \u001b[49m\u001b[43mdims\u001b[49m\u001b[38;5;241;43m=\u001b[39;49m\u001b[38;5;124;43m'\u001b[39;49m\u001b[38;5;124;43mZXY\u001b[39;49m\u001b[38;5;124;43m'\u001b[39;49m\u001b[43m)\u001b[49m\n\u001b[1;32m      4\u001b[0m \u001b[38;5;28mprint\u001b[39m(img[\u001b[38;5;241m0\u001b[39m]\u001b[38;5;241m.\u001b[39mshape)\n",
      "File \u001b[0;32m~/python_codes/light_sheet_domes/venv_tf/lib/python3.10/site-packages/n2v/internals/N2V_DataGenerator.py:123\u001b[0m, in \u001b[0;36mN2V_DataGenerator.load_imgs_from_directory\u001b[0;34m(self, directory, filter, dims)\u001b[0m\n\u001b[1;32m    121\u001b[0m files \u001b[38;5;241m=\u001b[39m glob(join(directory, \u001b[38;5;28mfilter\u001b[39m))\n\u001b[1;32m    122\u001b[0m files\u001b[38;5;241m.\u001b[39msort()\n\u001b[0;32m--> 123\u001b[0m \u001b[38;5;28;01mreturn\u001b[39;00m \u001b[38;5;28;43mself\u001b[39;49m\u001b[38;5;241;43m.\u001b[39;49m\u001b[43mload_imgs\u001b[49m\u001b[43m(\u001b[49m\u001b[43mfiles\u001b[49m\u001b[43m,\u001b[49m\u001b[43m \u001b[49m\u001b[43mdims\u001b[49m\u001b[38;5;241;43m=\u001b[39;49m\u001b[43mdims\u001b[49m\u001b[43m)\u001b[49m\n",
      "File \u001b[0;32m~/python_codes/light_sheet_domes/venv_tf/lib/python3.10/site-packages/n2v/internals/N2V_DataGenerator.py:87\u001b[0m, in \u001b[0;36mN2V_DataGenerator.load_imgs\u001b[0;34m(self, files, dims, image_reader)\u001b[0m\n\u001b[1;32m     85\u001b[0m \u001b[38;5;28;01mfor\u001b[39;00m f \u001b[38;5;129;01min\u001b[39;00m files:\n\u001b[1;32m     86\u001b[0m     img \u001b[38;5;241m=\u001b[39m image_reader(f)\n\u001b[0;32m---> 87\u001b[0m     \u001b[38;5;28;01massert\u001b[39;00m \u001b[38;5;28mlen\u001b[39m(img\u001b[38;5;241m.\u001b[39mshape) \u001b[38;5;241m==\u001b[39m \u001b[38;5;28mlen\u001b[39m(dims), \u001b[38;5;124m\"\u001b[39m\u001b[38;5;124mNumber of image dimensions doesn\u001b[39m\u001b[38;5;124m'\u001b[39m\u001b[38;5;124mt match \u001b[39m\u001b[38;5;124m'\u001b[39m\u001b[38;5;124mdims\u001b[39m\u001b[38;5;124m'\u001b[39m\u001b[38;5;124m.\u001b[39m\u001b[38;5;124m\"\u001b[39m\n\u001b[1;32m     89\u001b[0m     img \u001b[38;5;241m=\u001b[39m np\u001b[38;5;241m.\u001b[39mmoveaxis(img, move_axis_from, move_axis_to)\n\u001b[1;32m     91\u001b[0m     \u001b[38;5;28;01mif\u001b[39;00m \u001b[38;5;129;01mnot\u001b[39;00m (\u001b[38;5;124m'\u001b[39m\u001b[38;5;124mT\u001b[39m\u001b[38;5;124m'\u001b[39m \u001b[38;5;129;01min\u001b[39;00m dims):    \n",
      "\u001b[0;31mAssertionError\u001b[0m: Number of image dimensions doesn't match 'dims'."
     ]
    }
   ],
   "source": [
    "datagen = N2V_DataGenerator()\n",
    "img = datagen.load_imgs_from_directory(directory=dome_path, filter=name_of_dome, dims='TZXY')\n",
    "\n",
    "print(img[0].shape)"
   ]
  },
  {
   "cell_type": "code",
   "execution_count": 22,
   "metadata": {},
   "outputs": [
    {
     "name": "stdout",
     "output_type": "stream",
     "text": [
      "Loading network weights from 'weights_best.h5'.\n"
     ]
    }
   ],
   "source": [
    "model_name = '2d_images_from_stack'\n",
    "basedir = './n2v_2d_black_line/models_test/'\n",
    "model = N2V(config=None, name=model_name, basedir=basedir)"
   ]
  },
  {
   "cell_type": "code",
   "execution_count": 23,
   "metadata": {},
   "outputs": [],
   "source": [
    "def denoise(img):\n",
    "\n",
    "    d3_pred = []\n",
    "\n",
    "    for image in img:\n",
    "        \n",
    "        image = image[:, :, 0]\n",
    "        # print(image.shape)\n",
    "\n",
    "        non_zero_cols = np.any(image != 0, axis = 0)\n",
    "        first_non_zero_col = np.argmax(non_zero_cols)\n",
    "        last_non_zero_col = len(non_zero_cols) - np.argmax(non_zero_cols[::-1]) - 1\n",
    "        clean_image = image[:, first_non_zero_col:last_non_zero_col + 1]\n",
    "\n",
    "        pred = model.predict(clean_image, axes='YX')\n",
    "\n",
    "        full_pred = np.zeros_like(image)\n",
    "\n",
    "        full_pred[:, first_non_zero_col:last_non_zero_col + 1] = pred\n",
    "        \n",
    "        d3_pred.append(full_pred)\n",
    "    \n",
    "    return d3_pred"
   ]
  },
  {
   "cell_type": "code",
   "execution_count": 24,
   "metadata": {},
   "outputs": [
    {
     "ename": "IndexError",
     "evalue": "too many indices for array: array is 2-dimensional, but 3 were indexed",
     "output_type": "error",
     "traceback": [
      "\u001b[0;31m---------------------------------------------------------------------------\u001b[0m",
      "\u001b[0;31mIndexError\u001b[0m                                Traceback (most recent call last)",
      "Cell \u001b[0;32mIn[24], line 8\u001b[0m\n\u001b[1;32m      5\u001b[0m \u001b[38;5;28;01mif\u001b[39;00m frame \u001b[38;5;241m==\u001b[39m \u001b[38;5;241m-\u001b[39m\u001b[38;5;241m1\u001b[39m:\n\u001b[1;32m      6\u001b[0m     \u001b[38;5;28;01mfor\u001b[39;00m im \u001b[38;5;129;01min\u001b[39;00m img[\u001b[38;5;241m0\u001b[39m]:\n\u001b[1;32m      7\u001b[0m         \u001b[38;5;66;03m# print(im.shape)\u001b[39;00m\n\u001b[0;32m----> 8\u001b[0m         stack\u001b[38;5;241m.\u001b[39mappend(\u001b[43mdenoise\u001b[49m\u001b[43m(\u001b[49m\u001b[43mim\u001b[49m\u001b[43m)\u001b[49m)\n\u001b[1;32m     10\u001b[0m \u001b[38;5;28;01melif\u001b[39;00m frame \u001b[38;5;241m<\u001b[39m img[\u001b[38;5;241m0\u001b[39m]\u001b[38;5;241m.\u001b[39mshape[\u001b[38;5;241m0\u001b[39m] \u001b[38;5;129;01mand\u001b[39;00m frame \u001b[38;5;241m>\u001b[39m \u001b[38;5;241m-\u001b[39m\u001b[38;5;241m1\u001b[39m:\n\u001b[1;32m     11\u001b[0m     \u001b[38;5;28;01mfor\u001b[39;00m im \u001b[38;5;129;01min\u001b[39;00m img[\u001b[38;5;241m0\u001b[39m][frame]:\n",
      "Cell \u001b[0;32mIn[23], line 7\u001b[0m, in \u001b[0;36mdenoise\u001b[0;34m(img)\u001b[0m\n\u001b[1;32m      3\u001b[0m d3_pred \u001b[38;5;241m=\u001b[39m []\n\u001b[1;32m      5\u001b[0m \u001b[38;5;28;01mfor\u001b[39;00m image \u001b[38;5;129;01min\u001b[39;00m img:\n\u001b[0;32m----> 7\u001b[0m     image \u001b[38;5;241m=\u001b[39m \u001b[43mimage\u001b[49m\u001b[43m[\u001b[49m\u001b[43m:\u001b[49m\u001b[43m,\u001b[49m\u001b[43m \u001b[49m\u001b[43m:\u001b[49m\u001b[43m,\u001b[49m\u001b[43m \u001b[49m\u001b[38;5;241;43m0\u001b[39;49m\u001b[43m]\u001b[49m\n\u001b[1;32m      8\u001b[0m     \u001b[38;5;66;03m# print(image.shape)\u001b[39;00m\n\u001b[1;32m     10\u001b[0m     non_zero_cols \u001b[38;5;241m=\u001b[39m np\u001b[38;5;241m.\u001b[39many(image \u001b[38;5;241m!=\u001b[39m \u001b[38;5;241m0\u001b[39m, axis \u001b[38;5;241m=\u001b[39m \u001b[38;5;241m0\u001b[39m)\n",
      "\u001b[0;31mIndexError\u001b[0m: too many indices for array: array is 2-dimensional, but 3 were indexed"
     ]
    }
   ],
   "source": [
    "frame = -1 # Write the frame number or -1 if you want to denoise all of the stack\n",
    "\n",
    "stack = []\n",
    "\n",
    "if frame == -1:\n",
    "    for im in img[0]:\n",
    "        # print(im.shape)\n",
    "        stack.append(denoise(im))\n",
    "\n",
    "elif frame < img[0].shape[0] and frame > -1:\n",
    "    for im in img[0][frame]:\n",
    "        stack.append(denoise(img))\n",
    "elif frame > img[0].shape[0] or frame <= 0:\n",
    "    print('no frame')\n",
    "\n"
   ]
  },
  {
   "cell_type": "code",
   "execution_count": 9,
   "metadata": {},
   "outputs": [],
   "source": [
    "stack = np.array(stack)"
   ]
  },
  {
   "cell_type": "code",
   "execution_count": 10,
   "metadata": {},
   "outputs": [
    {
     "name": "stderr",
     "output_type": "stream",
     "text": [
      "/home/ppujol@ibec.local/python_codes/light_sheet_domes/venv_tf/lib/python3.10/site-packages/tifffile/tifffile.py:3776: UserWarning: <tifffile.TiffWriter '21_denoised.tif'> truncating ImageJ file\n",
      "  warnings.warn(\n"
     ]
    }
   ],
   "source": [
    "save_tiff_imagej_compatible(str(save_dome_path)+str(name_save_dome), stack, axes='TZXY')"
   ]
  }
 ],
 "metadata": {
  "kernelspec": {
   "display_name": "venv_tf",
   "language": "python",
   "name": "python3"
  },
  "language_info": {
   "codemirror_mode": {
    "name": "ipython",
    "version": 3
   },
   "file_extension": ".py",
   "mimetype": "text/x-python",
   "name": "python",
   "nbconvert_exporter": "python",
   "pygments_lexer": "ipython3",
   "version": "3.10.12"
  }
 },
 "nbformat": 4,
 "nbformat_minor": 2
}
