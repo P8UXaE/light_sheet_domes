{
 "cells": [
  {
   "cell_type": "code",
   "execution_count": 6,
   "metadata": {},
   "outputs": [
    {
     "data": {
      "text/plain": [
       "<Image layer 'im2' at 0x18b30514250>"
      ]
     },
     "execution_count": 6,
     "metadata": {},
     "output_type": "execute_result"
    }
   ],
   "source": [
    "import napari\n",
    "import skimage as sk\n",
    "import numpy as np\n",
    "\n",
    "viewer = napari.Viewer()\n",
    "\n",
    "image = sk.io.imread('./../domes/Dome103_processed_n2v2d.tif')\n",
    "# image = sk.io.imread('./../test_domes/Dome103_processed_n2v2d.tif')\n",
    "image = np.transpose(image, axes=(1, 0, 2))\n",
    "\n",
    "viewer.add_image(image)\n",
    "\n",
    "im2 = sk.io.imread('./../dot_Cloud_pooling3D.tif')\n",
    "\n",
    "\n",
    "\n",
    "viewer.add_image(im2)\n",
    "\n",
    "\n"
   ]
  }
 ],
 "metadata": {
  "kernelspec": {
   "display_name": "pynapari",
   "language": "python",
   "name": "python3"
  },
  "language_info": {
   "codemirror_mode": {
    "name": "ipython",
    "version": 3
   },
   "file_extension": ".py",
   "mimetype": "text/x-python",
   "name": "python",
   "nbconvert_exporter": "python",
   "pygments_lexer": "ipython3",
   "version": "3.11.6"
  }
 },
 "nbformat": 4,
 "nbformat_minor": 2
}
