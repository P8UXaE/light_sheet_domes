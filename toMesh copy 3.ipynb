{
 "cells": [
  {
   "cell_type": "code",
   "execution_count": 1,
   "metadata": {},
   "outputs": [],
   "source": [
    "# from vedo import *\n"
   ]
  },
  {
   "cell_type": "code",
   "execution_count": 2,
   "metadata": {},
   "outputs": [
    {
     "ename": "IndexError",
     "evalue": "list index out of range",
     "output_type": "error",
     "traceback": [
      "\u001b[0;31m---------------------------------------------------------------------------\u001b[0m",
      "\u001b[0;31mIndexError\u001b[0m                                Traceback (most recent call last)",
      "Cell \u001b[0;32mIn[2], line 1\u001b[0m\n\u001b[0;32m----> 1\u001b[0m vol \u001b[38;5;241m=\u001b[39m \u001b[43mVolume\u001b[49m\u001b[43m(\u001b[49m\u001b[38;5;124;43m'\u001b[39;49m\u001b[38;5;124;43m./../ppujol/super_collapsed/pieces/cell.tif\u001b[39;49m\u001b[38;5;124;43m'\u001b[39;49m\u001b[43m)\u001b[49m\u001b[38;5;241m.\u001b[39mprint()\n\u001b[1;32m      2\u001b[0m iso \u001b[38;5;241m=\u001b[39m vol\u001b[38;5;241m.\u001b[39misosurface(\u001b[38;5;241m1\u001b[39m)\n\u001b[1;32m      4\u001b[0m show(vol, iso, N\u001b[38;5;241m=\u001b[39m\u001b[38;5;241m2\u001b[39m, axes\u001b[38;5;241m=\u001b[39m\u001b[38;5;241m1\u001b[39m)\n",
      "File \u001b[0;32m~/python_codes/light_sheet_domes/pynapari/lib/python3.10/site-packages/vedo/volume.py:102\u001b[0m, in \u001b[0;36mVolume.__init__\u001b[0;34m(self, inputobj, dims, origin, spacing)\u001b[0m\n\u001b[1;32m     98\u001b[0m     img \u001b[38;5;241m=\u001b[39m vtk\u001b[38;5;241m.\u001b[39mvtkImageData()\n\u001b[1;32m    100\u001b[0m \u001b[38;5;28;01melif\u001b[39;00m utils\u001b[38;5;241m.\u001b[39mis_sequence(inputobj):\n\u001b[0;32m--> 102\u001b[0m     \u001b[38;5;28;01mif\u001b[39;00m \u001b[38;5;28misinstance\u001b[39m(\u001b[43minputobj\u001b[49m\u001b[43m[\u001b[49m\u001b[38;5;241;43m0\u001b[39;49m\u001b[43m]\u001b[49m, \u001b[38;5;28mstr\u001b[39m) \u001b[38;5;129;01mand\u001b[39;00m \u001b[38;5;124m\"\u001b[39m\u001b[38;5;124m.bmp\u001b[39m\u001b[38;5;124m\"\u001b[39m \u001b[38;5;129;01min\u001b[39;00m inputobj[\u001b[38;5;241m0\u001b[39m]\u001b[38;5;241m.\u001b[39mlower():\n\u001b[1;32m    103\u001b[0m         \u001b[38;5;66;03m# scan sequence of BMP files\u001b[39;00m\n\u001b[1;32m    104\u001b[0m         ima \u001b[38;5;241m=\u001b[39m vtk\u001b[38;5;241m.\u001b[39mnew(\u001b[38;5;124m\"\u001b[39m\u001b[38;5;124mImageAppend\u001b[39m\u001b[38;5;124m\"\u001b[39m)\n\u001b[1;32m    105\u001b[0m         ima\u001b[38;5;241m.\u001b[39mSetAppendAxis(\u001b[38;5;241m2\u001b[39m)\n",
      "\u001b[0;31mIndexError\u001b[0m: list index out of range"
     ]
    }
   ],
   "source": [
    "# vol = Volume('./../ppujol/super_collapsed/pieces/cell.tif').print()\n",
    "# iso = vol.isosurface(1)\n",
    "\n",
    "# show(vol, iso, N=2, axes=1)"
   ]
  },
  {
   "cell_type": "code",
   "execution_count": null,
   "metadata": {},
   "outputs": [
    {
     "data": {
      "text/html": [
       "<table>\n",
       "<tr>\n",
       "<td>\n",
       "<img src='data:image/png;base64,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'></img>\n",
       "</td>\n",
       "<td style='text-align: center; vertical-align: center;'><br/>\n",
       "<b><a href=\"https://vedo.embl.es/docs/vedo/mesh.html\" target=\"_blank\">vedo.mesh.Mesh</a></b>\n",
       "<table>\n",
       "<tr><td><b> bounds </b> <br/> (x/y/z) </td><td>78.00 ... 231.0<br/>116.0 ... 219.0<br/>96.00 ... 220.0</td></tr>\n",
       "<tr><td><b> center of mass </b></td><td>(146, 162, 153)</td></tr>\n",
       "<tr><td><b> average size </b></td><td>55.035</td></tr>\n",
       "<tr><td><b> nr. points&nbsp/&nbspfaces </b></td><td>67464&nbsp/&nbsp134928</td></tr>\n",
       "<tr><td><b> point data array </b></td><td>Tiff Scalars</td></tr>\n",
       "\n",
       "</table>\n",
       "</table>"
      ],
      "text/plain": [
       "<vedo.mesh.Mesh at 0x7f8afca5c790>"
      ]
     },
     "execution_count": 15,
     "metadata": {},
     "output_type": "execute_result"
    }
   ],
   "source": [
    "# iso.write(\"subcellular.obj\")"
   ]
  },
  {
   "cell_type": "code",
   "execution_count": 1,
   "metadata": {},
   "outputs": [],
   "source": [
    "from dw3d import geometry_reconstruction_3d\n",
    "import skimage as sk\n",
    "\n",
    "cell = sk.io.imread('./../ppujol/cellstosegment/32_2/segmented_cell.tif')\n",
    "# original = sk.io.imread('cell_cube_time_7.tif')\n",
    "\n",
    "cell[cell > 0] = 1"
   ]
  },
  {
   "cell_type": "code",
   "execution_count": 2,
   "metadata": {},
   "outputs": [
    {
     "ename": "",
     "evalue": "",
     "output_type": "error",
     "traceback": [
      "\u001b[1;31mThe Kernel crashed while executing code in the current cell or a previous cell. \n",
      "\u001b[1;31mPlease review the code in the cell(s) to identify a possible cause of the failure. \n",
      "\u001b[1;31mClick <a href='https://aka.ms/vscodeJupyterKernelCrash'>here</a> for more info. \n",
      "\u001b[1;31mView Jupyter <a href='command:jupyter.viewOutput'>log</a> for further details."
     ]
    }
   ],
   "source": [
    "DW = geometry_reconstruction_3d(cell, min_dist=1, expansion_labels=0, mode='skimage')\n",
    "DW.plot_cells_polyscope()\n",
    "# v = DW.plot_in_napari(add_mesh=True)\n",
    "\n",
    "## Use the mesh to analyze the geometry:\n",
    "Mesh=DW.return_dcel()\n",
    "Mesh.compute_curvatures_interfaces()\n",
    "Mesh.compute_areas_interfaces()\n",
    "Mesh.compute_volumes_cells()\n",
    "Mesh.compute_length_trijunctions()\n",
    "Mesh.compute_angles_junctions()"
   ]
  },
  {
   "cell_type": "code",
   "execution_count": 11,
   "metadata": {},
   "outputs": [],
   "source": [
    "# import os\n",
    "# import skimage as sk\n",
    "# import numpy as np\n",
    "# import tifffile as tiff\n",
    "\n",
    "# def normalize_image(im, mult_factor = 1):\n",
    "#     norm_im = (im - im.min()) / (im.max()-im.min()) * mult_factor\n",
    "#     return norm_im\n",
    "# def reverse_values(im):\n",
    "#     rev_im = im.max()-im\n",
    "#     return rev_im\n",
    "\n",
    "# total = np.zeros((300,300,300))\n",
    "# for piece in os.listdir('./../ppujol/super_collapsed/pieces/'):\n",
    "#     if piece != 'image.tif':\n",
    "#         p = sk.io.imread('./../ppujol/super_collapsed/pieces/'+piece)\n",
    "#         total += p\n",
    "\n",
    "# total[total > 0] = 1\n",
    "# tiff.imwrite('./../ppujol/super_collapsed/pieces/cell.tif', normalize_image(total, 65535).astype(np.uint16), imagej=True)\n"
   ]
  }
 ],
 "metadata": {
  "kernelspec": {
   "display_name": "pynapari",
   "language": "python",
   "name": "python3"
  },
  "language_info": {
   "codemirror_mode": {
    "name": "ipython",
    "version": 3
   },
   "file_extension": ".py",
   "mimetype": "text/x-python",
   "name": "python",
   "nbconvert_exporter": "python",
   "pygments_lexer": "ipython3",
   "version": "3.10.12"
  }
 },
 "nbformat": 4,
 "nbformat_minor": 2
}
