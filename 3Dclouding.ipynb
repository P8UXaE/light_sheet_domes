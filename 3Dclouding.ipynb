{
 "cells": [
  {
   "cell_type": "code",
   "execution_count": 56,
   "metadata": {},
   "outputs": [],
   "source": [
    "import numpy as np\n",
    "import skimage as sk\n",
    "import cv2\n",
    "import copy\n",
    "from scipy.ndimage import gaussian_filter"
   ]
  },
  {
   "cell_type": "code",
   "execution_count": 61,
   "metadata": {},
   "outputs": [],
   "source": [
    "def poolAndMax3d(input, pool=(2,2,2), v=''):\n",
    "    v = v.count('+')\n",
    "    # Make the 3D stack binnable by the size\n",
    "    while input.shape[0] % pool[0] != 0: # If the image Y dimension is not even\n",
    "        zero_plane = np.zeros_like(input[:pool[0] - input.shape[0] % pool[0], :, :]) # Create a 2D plane that matches the size of the data\n",
    "        input = np.concatenate([zero_plane, input], axis=0) # Concatenate the zero-filled plane with the original data\n",
    "        print(f\"Modify Z: {input.shape}, added layer.\") if v > 0 else None\n",
    "    while input.shape[1] % pool[1] != 0: # If the image X dimension is not even\n",
    "        zero_plane = np.zeros_like(input[:, :pool[1] - input.shape[1] % pool[1], :]) # Create a 2D plane that matches the size of the data\n",
    "        input = np.concatenate([zero_plane, input], axis=1) # Concatenate the zero-filled plane with the original data\n",
    "        print(f\"Modify Y: {input.shape}, added layer.\") if v > 0 else None\n",
    "    while  input.shape[2] % pool[2] != 0: # If the image X dimension is not even\n",
    "        zero_plane = np.zeros_like(input[:, :, :pool[2] - input.shape[2] % pool[2]]) # Create a 2D plane that matches the size of the data\n",
    "        input = np.concatenate([zero_plane, input], axis=2) # Concatenate the zero-filled plane with the original data\n",
    "        print(f\"Modify X: {input.shape}, added layer.\") if v > 0 else None\n",
    "\n",
    "    print(input.shape) if v > 0 else None\n",
    "    \n",
    "    shapeZ, shapeY, shapeX = input.shape[0], input.shape[1], input.shape[2] # Compute the shape (new shape)\n",
    "    newZ, newY, newX = int(shapeZ/pool[0]), int(shapeY/pool[1]), int(shapeX/pool[2]) # The new dimensions that the image will have\n",
    "    # print(shapeY, shapeX, newY, newX)\n",
    "    poolList = []\n",
    "    maxList = [[[0 for _ in range(newX)] for _ in range(newY)] for _ in range(newZ)]\n",
    "    print(f\"Convolution from {shapeZ} {shapeY} {shapeX} to {len(maxList)} {len(maxList[0])} {len(maxList[0][0])}\") if v > 0 else None\n",
    "\n",
    "    c = 1\n",
    "    total = int(newZ*newY*newX)\n",
    "    for z in range(0, shapeZ, pool[0]):\n",
    "        for y in range(0, shapeY, pool[1]):\n",
    "            for x in range(0, shapeX, pool[2]):\n",
    "                patch = input[z:z+pool[0], y:y+pool[1], x:x+pool[2]]\n",
    "                poolList.append(patch.max())\n",
    "                \n",
    "                indices = np.unravel_index(np.argmax(patch), patch.shape)\n",
    "                maxList[int(z / pool[0])][int(y / pool[1])][int(x / pool[2])] = (z + indices[0], y + indices[1], x + indices[2])\n",
    "                \n",
    "                print(f\"{c}/{total}\", end=\"\\r\") if v > 1 else None\n",
    "                c+=1\n",
    "                \n",
    "    print(f\"{total}/{total}, DONE!\") if v > 1 else None\n",
    "            \n",
    "    poolArray = np.array(poolList)\n",
    "    poolArray = np.reshape(poolArray, (newZ, newY, newX))\n",
    "    maxList = np.array(maxList)\n",
    "    \n",
    "    return poolArray, maxList, pool\n",
    "\n",
    "\n",
    "\n",
    "def deconv3d(input, maxList, pool=(2,2,2), v=''):\n",
    "    v = v.count('+')\n",
    "    shapeZ, shapeY, shapeX = maxList.shape[0], maxList.shape[1], maxList.shape[2]\n",
    "    newZ, newY, newX = int(maxList.shape[0]*pool[0]), int(maxList.shape[1]*pool[1]), int(maxList.shape[2]*pool[2])\n",
    "    print(f\"Deconvolution from {shapeZ} {shapeY} {shapeX} to {newZ} {newY} {newX}\") if v > 0 else None\n",
    "    \n",
    "    output = [[[0 for _ in range(newX)] for _ in range(newY)] for _ in range(newZ)]\n",
    "    \n",
    "    c = 1\n",
    "    total = int(shapeZ*shapeY*shapeX)\n",
    "    for z in range(0, shapeZ):\n",
    "        for y in range(0, shapeY):\n",
    "            for x in range(0, shapeX):\n",
    "                indices = maxList[z, y, x]\n",
    "                output[indices[0]][indices[1]][indices[2]] = input[z, y, x]\n",
    "                \n",
    "                print(f\"{c}/{total}\", end=\"\\r\") if v > 1 else None\n",
    "                c+=1\n",
    "                \n",
    "    print(f\"{total}/{total}, DONE!\") if v > 1 else None\n",
    "    \n",
    "    output = np.array(output)\n",
    "\n",
    "    return output\n",
    "\n"
   ]
  },
  {
   "cell_type": "code",
   "execution_count": 58,
   "metadata": {},
   "outputs": [],
   "source": [
    "def conv_deconv3D(im3d, times=3, v=''):\n",
    "    v = v.count('+')\n",
    "    output = []\n",
    "    \n",
    "    pool = [0 for _ in range(times)]\n",
    "    maxList = [0 for _ in range(times)]\n",
    "    deconv = [0 for _ in range(times)]\n",
    "    \n",
    "    c = 0\n",
    "    for t in range(times): # CONVOLUTION\n",
    "        print(f\"Convolving: {c+1}/{times}\") if v > 0 else None\n",
    "        if c == 0:\n",
    "            pool_n, maxList_n, _ = poolAndMax3d(im3d)\n",
    "        else:\n",
    "            pool_n, maxList_n, _ = poolAndMax3d(pool[c-1])\n",
    "            \n",
    "        pool[t] = pool_n\n",
    "        maxList[t] = maxList_n\n",
    "        c+=1\n",
    "        \n",
    "        \n",
    "    \n",
    "    \n",
    "    # MAKE THE MASK\n",
    "    #print(pool[c-1].shape)\n",
    "    lastPool = gaussian_filter(pool[c-1], sigma=2)\n",
    "    #print(lastPool.shape)\n",
    "    mean = lastPool.mean()\n",
    "    pooled_mask = copy.copy(lastPool)\n",
    "    pooled_mask[lastPool > mean] = 255\n",
    "    pooled_mask[lastPool <= mean] = 0\n",
    "    \n",
    "    \n",
    "    c = times\n",
    "    for t in range(times): # UPCONVOLUTION\n",
    "        print(f\"Deconvolving: {c}/{times}\") if v > 0 else None\n",
    "        if c == times:\n",
    "            deconv_n = deconv3d(pooled_mask, maxList[c-1])\n",
    "        else:\n",
    "            deconv_n = deconv3d(deconv[times-c-1], maxList[c-1])\n",
    "            \n",
    "        deconv[t] = deconv_n\n",
    "        c-=1\n",
    "\n",
    "    \n",
    "    output = np.array(deconv_n)\n",
    "    return output"
   ]
  },
  {
   "cell_type": "code",
   "execution_count": 62,
   "metadata": {},
   "outputs": [
    {
     "name": "stdout",
     "output_type": "stream",
     "text": [
      "Convolving: 1/3\n",
      "Convolving: 2/3\n",
      "Convolving: 3/3\n",
      "Deconvolving: 3/3\n",
      "Deconvolving: 2/3\n",
      "Deconvolving: 1/3\n"
     ]
    }
   ],
   "source": [
    "image = sk.io.imread('./domes/Dome103_processed_n2v2d.tif')\n",
    "points = conv_deconv3D(image, times=3)"
   ]
  },
  {
   "cell_type": "code",
   "execution_count": 2,
   "metadata": {},
   "outputs": [
    {
     "ename": "NameError",
     "evalue": "name 'points' is not defined",
     "output_type": "error",
     "traceback": [
      "\u001b[1;31m---------------------------------------------------------------------------\u001b[0m",
      "\u001b[1;31mNameError\u001b[0m                                 Traceback (most recent call last)",
      "\u001b[1;32md:\\Python_vscode\\3Dclouding.ipynb Cell 5\u001b[0m line \u001b[0;36m4\n\u001b[0;32m      <a href='vscode-notebook-cell:/d%3A/Python_vscode/3Dclouding.ipynb#W4sZmlsZQ%3D%3D?line=0'>1</a>\u001b[0m \u001b[39mimport\u001b[39;00m \u001b[39mnapari\u001b[39;00m\n\u001b[0;32m      <a href='vscode-notebook-cell:/d%3A/Python_vscode/3Dclouding.ipynb#W4sZmlsZQ%3D%3D?line=2'>3</a>\u001b[0m viewer \u001b[39m=\u001b[39m napari\u001b[39m.\u001b[39mViewer()\n\u001b[1;32m----> <a href='vscode-notebook-cell:/d%3A/Python_vscode/3Dclouding.ipynb#W4sZmlsZQ%3D%3D?line=3'>4</a>\u001b[0m viewer\u001b[39m.\u001b[39madd_image(points)\n",
      "\u001b[1;31mNameError\u001b[0m: name 'points' is not defined"
     ]
    }
   ],
   "source": [
    "import napari\n",
    "\n",
    "viewer = napari.Viewer()\n",
    "viewer.add_image(points)"
   ]
  },
  {
   "cell_type": "code",
   "execution_count": 68,
   "metadata": {},
   "outputs": [],
   "source": [
    "pointsXoriginal = points*image\n",
    "coordinates = np.transpose(np.nonzero(pointsXoriginal))\n",
    "intensity_column = [image[idx[0], idx[1], idx[2]] for idx in coordinates]\n",
    "pointsXoriginal = np.column_stack((coordinates, intensity_column))\n"
   ]
  },
  {
   "cell_type": "code",
   "execution_count": 76,
   "metadata": {},
   "outputs": [
    {
     "name": "stderr",
     "output_type": "stream",
     "text": [
      "C:\\Users\\SPIM\\AppData\\Local\\Temp\\ipykernel_632\\790074462.py:2: DeprecationWarning: <tifffile.imsave> is deprecated. Use tifffile.imwrite\n",
      "  tiff.imsave('./dottedIntensity.tiff', points*image)\n"
     ]
    }
   ],
   "source": [
    "import tifffile as tiff\n",
    "tiff.imsave('./dottedIntensity.tiff', points*image)\n"
   ]
  },
  {
   "cell_type": "code",
   "execution_count": 75,
   "metadata": {},
   "outputs": [
    {
     "name": "stdout",
     "output_type": "stream",
     "text": [
      "(102146, 4) [[ 54.         344.         459.          32.93125916]\n",
      " [ 54.         348.         480.          29.84007263]\n",
      " [ 55.         331.         489.          30.28404808]\n",
      " [ 55.         333.         487.          29.67397881]\n",
      " [ 55.         334.         472.          32.48284912]]\n"
     ]
    }
   ],
   "source": [
    "print(pointsXoriginal.shape, pointsXoriginal[:5])\n",
    "\n",
    "np.savetxt('pointsIntensity.txt', pointsXoriginal, fmt='%d %d %d %.2f', header='z y x intensity', comments='')"
   ]
  }
 ],
 "metadata": {
  "kernelspec": {
   "display_name": "pynapari",
   "language": "python",
   "name": "python3"
  },
  "language_info": {
   "codemirror_mode": {
    "name": "ipython",
    "version": 3
   },
   "file_extension": ".py",
   "mimetype": "text/x-python",
   "name": "python",
   "nbconvert_exporter": "python",
   "pygments_lexer": "ipython3",
   "version": "3.11.7"
  }
 },
 "nbformat": 4,
 "nbformat_minor": 2
}
