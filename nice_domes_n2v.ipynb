{
 "cells": [
  {
   "cell_type": "code",
   "execution_count": 1,
   "metadata": {},
   "outputs": [],
   "source": [
    "from n2v.models import N2V\n",
    "import numpy as np\n",
    "from matplotlib import pyplot as plt\n",
    "from tifffile import imread, imwrite\n",
    "import os"
   ]
  },
  {
   "cell_type": "code",
   "execution_count": 2,
   "metadata": {},
   "outputs": [
    {
     "name": "stderr",
     "output_type": "stream",
     "text": [
      "d:\\Python_vscode\\venv_tf\\Lib\\site-packages\\csbdeep\\models\\base_model.py:163: UserWarning: Couldn't find any network weights (*.h5, *.hdf5) to load.\n",
      "  warnings.warn(\"Couldn't find any network weights (%s) to load.\" % ', '.join(weights_ext))\n"
     ]
    }
   ],
   "source": [
    "model_name = 'dome103_3d'\n",
    "basedir = 'n2v_models'\n",
    "model = N2V(config=None, name=model_name, basedir=basedir)"
   ]
  },
  {
   "cell_type": "code",
   "execution_count": 4,
   "metadata": {},
   "outputs": [
    {
     "name": "stdout",
     "output_type": "stream",
     "text": [
      "The input image is of type uint16 and will be casted to float32 for prediction.\n",
      "1/1 [==============================] - 13s 13s/step\n"
     ]
    },
    {
     "name": "stderr",
     "output_type": "stream",
     "text": [
      "  3%|▎         | 1/32 [00:00<?, ?it/s]"
     ]
    },
    {
     "name": "stdout",
     "output_type": "stream",
     "text": [
      "1/1 [==============================] - 13s 13s/step\n"
     ]
    },
    {
     "name": "stderr",
     "output_type": "stream",
     "text": [
      "  6%|▋         | 2/32 [00:12<03:13,  6.44s/it]"
     ]
    }
   ],
   "source": [
    "dome_images_dir = 'domes/Nice Domes/'\n",
    "dome_images_save = 'domes/domes_n2v/'\n",
    "\n",
    "for i in os.listdir(dome_images_dir):\n",
    "    image = imread(dome_images_dir+str(i))\n",
    "    d4im = []\n",
    "    for img in image:\n",
    "        pred = model.predict(img, axes='ZYX', n_tiles=(2,4,4))\n",
    "        d4im.append(pred)\n",
    "    d4im = np.array(d4im)\n",
    "    imwrite(dome_images_save+str(i.split('.')[0])+'_processed.tif', d4im)"
   ]
  }
 ],
 "metadata": {
  "kernelspec": {
   "display_name": "venv_tf",
   "language": "python",
   "name": "python3"
  },
  "language_info": {
   "codemirror_mode": {
    "name": "ipython",
    "version": 3
   },
   "file_extension": ".py",
   "mimetype": "text/x-python",
   "name": "python",
   "nbconvert_exporter": "python",
   "pygments_lexer": "ipython3",
   "version": "3.11.6"
  }
 },
 "nbformat": 4,
 "nbformat_minor": 2
}
