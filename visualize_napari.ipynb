{
 "cells": [
  {
   "cell_type": "code",
   "execution_count": 6,
   "metadata": {},
   "outputs": [
    {
     "data": {
      "text/plain": [
       "<Image layer 'im3' at 0x24793fd9a10>"
      ]
     },
     "execution_count": 6,
     "metadata": {},
     "output_type": "execute_result"
    }
   ],
   "source": [
    "import napari\n",
    "import skimage as sk\n",
    "\n",
    "\n",
    "\n",
    "#im = sk.io.imread('./domes/Dome103_processed.tif')\n",
    "im2 = sk.io.imread('./domes/Nice Domes/99.tif')\n",
    "im3 = sk.io.imread('./domes/domes_n2v/99_processed.tif')\n",
    "viewer = napari.Viewer()\n",
    "viewer.add_image(im2)\n",
    "viewer.add_image(im3)"
   ]
  }
 ],
 "metadata": {
  "kernelspec": {
   "display_name": "pynapari",
   "language": "python",
   "name": "python3"
  },
  "language_info": {
   "codemirror_mode": {
    "name": "ipython",
    "version": 3
   },
   "file_extension": ".py",
   "mimetype": "text/x-python",
   "name": "python",
   "nbconvert_exporter": "python",
   "pygments_lexer": "ipython3",
   "version": "3.11.6"
  }
 },
 "nbformat": 4,
 "nbformat_minor": 2
}
