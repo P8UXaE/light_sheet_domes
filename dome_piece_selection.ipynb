{
 "cells": [
  {
   "cell_type": "code",
   "execution_count": 1,
   "metadata": {},
   "outputs": [],
   "source": [
    "import skimage as sk\n",
    "import matplotlib.pyplot as plt\n",
    "import napari\n",
    "import numpy as np"
   ]
  },
  {
   "cell_type": "code",
   "execution_count": 2,
   "metadata": {},
   "outputs": [
    {
     "data": {
      "text/plain": [
       "<Image layer 'image' at 0x22f917b6e50>"
      ]
     },
     "execution_count": 2,
     "metadata": {},
     "output_type": "execute_result"
    }
   ],
   "source": [
    "image = sk.io.imread('./domes/Dome103_processed_n2v2d.tif')\n",
    "viewer = napari.Viewer()\n",
    "viewer.add_image(image)"
   ]
  },
  {
   "cell_type": "code",
   "execution_count": 9,
   "metadata": {},
   "outputs": [
    {
     "data": {
      "text/plain": [
       "<Image layer 'Image [2]' at 0x22f87c40ad0>"
      ]
     },
     "execution_count": 9,
     "metadata": {},
     "output_type": "execute_result"
    }
   ],
   "source": [
    "viewer.add_image(image[60:150, 150:650, 150:650].astype(np.uint16))"
   ]
  },
  {
   "cell_type": "code",
   "execution_count": 10,
   "metadata": {},
   "outputs": [
    {
     "name": "stderr",
     "output_type": "stream",
     "text": [
      "d:\\Python_vscode\\pynapari\\Lib\\site-packages\\numpy\\core\\fromnumeric.py:3504: RuntimeWarning: Mean of empty slice.\n",
      "  return _methods._mean(a, axis=axis, dtype=dtype,\n",
      "d:\\Python_vscode\\pynapari\\Lib\\site-packages\\numpy\\core\\_methods.py:129: RuntimeWarning: invalid value encountered in scalar divide\n",
      "  ret = ret.dtype.type(ret / rcount)\n"
     ]
    },
    {
     "name": "stdout",
     "output_type": "stream",
     "text": [
      "90\r"
     ]
    }
   ],
   "source": [
    "from cellpose import models, io\n",
    "\n",
    "model = models.Cellpose(gpu=False, model_type='cyto')\n",
    "channels = [0,0] # There is no nucleus, the image is GRAYSCALE. First number would be the channel for the cytoplasm and the second for the nucleus\n",
    "# masks, flows, styles, diams = model.eval(image, diameter=None, channels=channels)\n",
    "\n",
    "mask = []\n",
    "c = 1\n",
    "for im in image[60:150, 150:650, 150:650].astype(np.uint16):\n",
    "    masks, flows, styles, diams = model.eval(im, diameter=None, channels=channels)\n",
    "    mask.append(masks)\n",
    "    print(c, end='\\r')\n",
    "    c+=1\n",
    "mask = np.array(mask)"
   ]
  },
  {
   "cell_type": "code",
   "execution_count": 32,
   "metadata": {},
   "outputs": [
    {
     "data": {
      "text/plain": [
       "<Image layer 'mask' at 0x2305fa86f10>"
      ]
     },
     "execution_count": 32,
     "metadata": {},
     "output_type": "execute_result"
    }
   ],
   "source": [
    "viewer = napari.Viewer()\n",
    "viewer.add_image(image[60:150, 150:650, 150:650].astype(np.uint16))\n",
    "viewer.add_image(mask)"
   ]
  },
  {
   "cell_type": "code",
   "execution_count": 29,
   "metadata": {},
   "outputs": [
    {
     "data": {
      "text/plain": [
       "<Image layer 'ii' at 0x23059a60f10>"
      ]
     },
     "execution_count": 29,
     "metadata": {},
     "output_type": "execute_result"
    }
   ],
   "source": [
    "viewer.add_image(np.transpose(image[60:150, 150:650, 150:650].astype(np.uint16), axes=(1,0,2)))\n",
    "ii = np.transpose(image[60:150, 150:650, 150:650].astype(np.uint16), axes=(2,1,0))\n",
    "viewer.add_image(ii)"
   ]
  },
  {
   "cell_type": "code",
   "execution_count": 30,
   "metadata": {},
   "outputs": [
    {
     "name": "stdout",
     "output_type": "stream",
     "text": [
      "8\r"
     ]
    },
    {
     "name": "stderr",
     "output_type": "stream",
     "text": [
      "d:\\Python_vscode\\pynapari\\Lib\\site-packages\\numpy\\core\\fromnumeric.py:3504: RuntimeWarning: Mean of empty slice.\n",
      "  return _methods._mean(a, axis=axis, dtype=dtype,\n",
      "d:\\Python_vscode\\pynapari\\Lib\\site-packages\\numpy\\core\\_methods.py:129: RuntimeWarning: invalid value encountered in scalar divide\n",
      "  ret = ret.dtype.type(ret / rcount)\n"
     ]
    },
    {
     "name": "stdout",
     "output_type": "stream",
     "text": [
      "28\r"
     ]
    },
    {
     "name": "stderr",
     "output_type": "stream",
     "text": [
      "WARNING: no mask pixels found\n"
     ]
    },
    {
     "name": "stdout",
     "output_type": "stream",
     "text": [
      "38\r"
     ]
    },
    {
     "name": "stderr",
     "output_type": "stream",
     "text": [
      "WARNING: no mask pixels found\n"
     ]
    },
    {
     "name": "stdout",
     "output_type": "stream",
     "text": [
      "69\r"
     ]
    },
    {
     "name": "stderr",
     "output_type": "stream",
     "text": [
      "WARNING: no mask pixels found\n"
     ]
    },
    {
     "name": "stdout",
     "output_type": "stream",
     "text": [
      "463\r"
     ]
    },
    {
     "name": "stderr",
     "output_type": "stream",
     "text": [
      "WARNING: no mask pixels found\n"
     ]
    },
    {
     "name": "stdout",
     "output_type": "stream",
     "text": [
      "500\r"
     ]
    }
   ],
   "source": [
    "mask2 = []\n",
    "c = 1\n",
    "for im in np.transpose(image[60:150, 150:650, 150:650].astype(np.uint16), axes=(1,0,2)):\n",
    "    masks, flows, styles, diams = model.eval(im, diameter=None, channels=channels)\n",
    "    mask2.append(masks)\n",
    "    print(c, end='\\r')\n",
    "    c+=1\n",
    "mask2 = np.array(mask2)\n",
    "\n",
    "\n",
    "mask3 = []\n",
    "c = 1\n",
    "for im in np.transpose(image[60:150, 150:650, 150:650].astype(np.uint16), axes=(2,1,0)):\n",
    "    masks, flows, styles, diams = model.eval(im, diameter=None, channels=channels)\n",
    "    mask3.append(masks)\n",
    "    print(c, end='\\r')\n",
    "    c+=1\n",
    "mask3 = np.array(mask3)"
   ]
  },
  {
   "cell_type": "code",
   "execution_count": 38,
   "metadata": {},
   "outputs": [
    {
     "data": {
      "text/plain": [
       "<Image layer 'Image [1]' at 0x2305a34af10>"
      ]
     },
     "execution_count": 38,
     "metadata": {},
     "output_type": "execute_result"
    }
   ],
   "source": [
    "viewer.add_image(np.transpose(mask2, (1, 0, 2)))\n"
   ]
  },
  {
   "cell_type": "code",
   "execution_count": 41,
   "metadata": {},
   "outputs": [
    {
     "data": {
      "text/plain": [
       "<Image layer 'Image [2]' at 0x23058f30b10>"
      ]
     },
     "execution_count": 41,
     "metadata": {},
     "output_type": "execute_result"
    }
   ],
   "source": [
    "viewer.add_image(np.transpose(mask3, (2, 1, 0)))"
   ]
  }
 ],
 "metadata": {
  "kernelspec": {
   "display_name": "pynapari",
   "language": "python",
   "name": "python3"
  },
  "language_info": {
   "codemirror_mode": {
    "name": "ipython",
    "version": 3
   },
   "file_extension": ".py",
   "mimetype": "text/x-python",
   "name": "python",
   "nbconvert_exporter": "python",
   "pygments_lexer": "ipython3",
   "version": "3.11.6"
  }
 },
 "nbformat": 4,
 "nbformat_minor": 2
}
