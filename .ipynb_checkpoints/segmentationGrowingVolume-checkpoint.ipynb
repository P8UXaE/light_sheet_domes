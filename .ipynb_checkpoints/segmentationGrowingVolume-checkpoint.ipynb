{
 "cells": [
  {
   "cell_type": "code",
   "execution_count": 1,
   "metadata": {},
   "outputs": [],
   "source": [
    "from skimage.morphology import ball, binary_closing\n",
    "from skimage.segmentation import watershed\n",
    "from skimage.filters import rank\n",
    "from scipy import ndimage as ndi\n",
    "import numpy as np\n",
    "from copy import copy\n",
    "import skimage as sk\n",
    "import matplotlib.pyplot as plt"
   ]
  },
  {
   "cell_type": "code",
   "execution_count": 3,
   "metadata": {},
   "outputs": [],
   "source": [
    "image = sk.io.imread('./../ppujol/DomesN2V/21_denoised.tif')\n",
    "image = np.transpose(image[7], axes=(1, 0, 2))\n",
    "image = np.transpose(image, axes=(2, 1, 0))\n",
    "\n",
    "z, y, x = 232, 260, 340\n",
    "delta = 130\n",
    "cell = image[z-delta:z+delta, y-delta:y+delta, x-delta:x+delta]"
   ]
  },
  {
   "cell_type": "code",
   "execution_count": 26,
   "metadata": {},
   "outputs": [],
   "source": [
    "def normalize_image(im, mult_factor = 1):\n",
    "    norm_im = (im - im.min()) / (im.max()-im.min()) * mult_factor\n",
    "    return norm_im\n",
    "def reverse_values(im):\n",
    "    rev_im = im.max()-im\n",
    "    return rev_im\n",
    "\n",
    "def watershed_process(cell, segmentation=True):\n",
    "    cell = normalize_image(cell, 255).astype(np.uint8)\n",
    "    cell_border = copy(cell)\n",
    "    denoised = rank.median(cell_border, ball(2)) # It was ball2\n",
    "    markers = rank.gradient(denoised, ball(5)) < 10 # It was ball5 and <10\n",
    "    markers = ndi.label(markers)[0]\n",
    "    # gradient = rank.gradient(denoised, ball(2)) # It was ball2\n",
    "    labels = watershed(denoised, markers) # Before it was gradient, markers\n",
    "    seed_point = (delta, delta, delta)\n",
    "    labels[labels != labels[seed_point]] = 0\n",
    "    labels = sk.morphology.binary_closing(labels, footprint=sk.morphology.ball(5))\n",
    "    labels = sk.morphology.binary_opening(labels, footprint=sk.morphology.ball(2))\n",
    "    maskImage = labels*cell_border\n",
    "    edt = ndi.distance_transform_edt(maskImage)\n",
    "    edt_border = reverse_values(edt*cell_border) if segmentation==True else reverse_values(edt)*cell_border\n",
    "    return labels, edt_border"
   ]
  },
  {
   "cell_type": "code",
   "execution_count": 17,
   "metadata": {},
   "outputs": [
    {
     "name": "stdout",
     "output_type": "stream",
     "text": [
      "9\r"
     ]
    }
   ],
   "source": [
    "def volumeCount(cell, values=10):\n",
    "    reps = list(range(values))\n",
    "    volumes = {}\n",
    "\n",
    "    for rep in reps:\n",
    "        volumes[rep] = None\n",
    "\n",
    "    c = 0\n",
    "\n",
    "    while c < values:\n",
    "        if c == 0:\n",
    "            labels, edt_border = watershed_process(cell=cell, segmentation=False)\n",
    "        else:\n",
    "            labels, edt_border = watershed_process(cell=edt_border, segmentation=False)\n",
    "        \n",
    "        print(c, end=\"\\r\")\n",
    "        volumes[c] = np.count_nonzero(labels)\n",
    "        c += 1\n",
    "    \n",
    "    return volumes\n",
    "    \n",
    "volumes = volumeCount(cell)"
   ]
  },
  {
   "cell_type": "code",
   "execution_count": 25,
   "metadata": {},
   "outputs": [
    {
     "name": "stdout",
     "output_type": "stream",
     "text": [
      "{0: 31929, 1: 43283, 2: 49345, 3: 53515, 4: 60999, 5: 67866, 6: 74320, 7: 15815070, 8: 15873606, 9: 15910549}\n"
     ]
    },
    {
     "data": {
      "text/plain": [
       "[<matplotlib.lines.Line2D at 0x7ff40cf0ec80>]"
      ]
     },
     "execution_count": 25,
     "metadata": {},
     "output_type": "execute_result"
    },
    {
     "data": {
      "image/png": "[encoded data removed]",
      "text/plain": [
       "<Figure size 640x480 with 1 Axes>"
      ]
     },
     "metadata": {},
     "output_type": "display_data"
    }
   ],
   "source": [
    "volume = []\n",
    "print(volumes)\n",
    "for rep in sorted(volumes.keys()):\n",
    "    value = volumes[rep]  # Recover the value corresponding to the current key\n",
    "    volume.append(value) if rep < 7 else None\n",
    "\n",
    "plt.plot(volume)"
   ]
  },
  {
   "cell_type": "markdown",
   "metadata": {},
   "source": []
  }
 ],
 "metadata": {
  "kernelspec": {
   "display_name": "pynapari",
   "language": "python",
   "name": "python3"
  },
  "language_info": {
   "codemirror_mode": {
    "name": "ipython",
    "version": 3
   },
   "file_extension": ".py",
   "mimetype": "text/x-python",
   "name": "python",
   "nbconvert_exporter": "python",
   "pygments_lexer": "ipython3",
   "version": "3.10.12"
  }
 },
 "nbformat": 4,
 "nbformat_minor": 2
}
