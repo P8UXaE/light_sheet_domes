{
 "cells": [
  {
   "cell_type": "markdown",
   "metadata": {},
   "source": [
    "# Benchmark"
   ]
  },
  {
   "cell_type": "code",
   "execution_count": 4,
   "metadata": {},
   "outputs": [],
   "source": [
    "import numpy as np\n",
    "import matplotlib.pyplot as plt\n",
    "import random as rnd"
   ]
  },
  {
   "cell_type": "code",
   "execution_count": 10,
   "metadata": {},
   "outputs": [],
   "source": [
    "mock = np.zeros((100,100,100))\n",
    "mean_cell_radius = 30"
   ]
  },
  {
   "cell_type": "code",
   "execution_count": 23,
   "metadata": {},
   "outputs": [],
   "source": [
    "def create_void_sphere(shape, center, radius):\n",
    "\n",
    "    x, y, z = np.ogrid[:shape[0], :shape[1], :shape[2]]\n",
    "    distance = np.sqrt((x - center[0])**2 + (y - center[1])**2 + (z - center[2])**2)\n",
    "    void_sphere_array = (distance <= radius).astype(int)\n",
    "\n",
    "    return void_sphere_array\n",
    "\n",
    "# Example usage:\n",
    "array_shape = (1000, 1000, 1000)\n",
    "void_center = (500, 500, 500)\n",
    "void_radius = 10\n",
    "\n",
    "void_sphere_array = create_void_sphere(array_shape, void_center, void_radius)\n"
   ]
  },
  {
   "cell_type": "code",
   "execution_count": 24,
   "metadata": {},
   "outputs": [
    {
     "data": {
      "text/plain": [
       "<matplotlib.image.AxesImage at 0x7fc1f3856a70>"
      ]
     },
     "execution_count": 24,
     "metadata": {},
     "output_type": "execute_result"
    },
    {
     "data": {
      "image/png": "[encoded data removed]",
      "text/plain": [
       "<Figure size 640x480 with 1 Axes>"
      ]
     },
     "metadata": {},
     "output_type": "display_data"
    }
   ],
   "source": [
    "plt.imshow(void_sphere_array[500]) \n"
   ]
  }
 ],
 "metadata": {
  "kernelspec": {
   "display_name": "pynapari",
   "language": "python",
   "name": "python3"
  },
  "language_info": {
   "codemirror_mode": {
    "name": "ipython",
    "version": 3
   },
   "file_extension": ".py",
   "mimetype": "text/x-python",
   "name": "python",
   "nbconvert_exporter": "python",
   "pygments_lexer": "ipython3",
   "version": "3.10.12"
  }
 },
 "nbformat": 4,
 "nbformat_minor": 2
}
