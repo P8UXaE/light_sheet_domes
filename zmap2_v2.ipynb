{
 "cells": [
  {
   "cell_type": "markdown",
   "metadata": {},
   "source": [
    "# ZMAP\n",
    "\n",
    "This file creates a zmap, only from top, not sides.\n",
    "\n",
    "Steps:\n",
    "\n",
    "- Get the mask of the image using dottamine. The mask is viewed from side (mask_r). Times is usually 3 and binshape is 2, 2, 2.\n",
    "- Now we do 2D morphology close using cv2 package on the mask_r with np.ones 10,10. And extract the top, left and right line. It is just the first mask pixel that appears viewed from top, left and right. We sum all of them to have a more complete line.\n",
    "- Once we have the sum mask we look it from top and start doing hull (skimage package). That will help to estimate where the non-detected cells in the dome are.\n",
    "- After getting the hull mask we extract the top of this hull mask.\n",
    "- We do gaussian filter and epithelial process for both:\n",
    "    - Hull line\n",
    "    - Sum line \n",
    "- We use a more complex function to get the countour of cells using both hull and sum lines. This will result in a first approximation that is able to find dark cells and cells that are in corners (that hull would not detect at all).\n",
    "- Using this first line we generate another gaussian and epithelial to then use a simpler falling line function. This will be the final result of the dome surface."
   ]
  },
  {
   "cell_type": "code",
   "execution_count": 1,
   "metadata": {},
   "outputs": [],
   "source": [
    "import skimage as sk\n",
    "import matplotlib.pyplot as plt\n",
    "from dottamine import dotim\n",
    "import numpy as np\n",
    "import cv2\n",
    "from scipy.ndimage import gaussian_filter, rotate\n",
    "import tifffile as tiff"
   ]
  },
  {
   "cell_type": "code",
   "execution_count": 2,
   "metadata": {},
   "outputs": [],
   "source": [
    "def normalize_image(im, mult_factor = 1):\n",
    "    '''\n",
    "    Normalize image (any Dimensions) function.\n",
    "    '''\n",
    "    im = np.array(im)\n",
    "    norm_im = (im - im.min()) / (im.max()-im.min()) * mult_factor\n",
    "    return norm_im\n",
    "\n",
    "\n",
    "def first_nonzero(d3_array, axis=0, moveLine=0):\n",
    "    '''\n",
    "    Get a line from a mask (3d array). \n",
    "    - axis can be 0, 1, 2. \n",
    "    - moveLine is the amount of pixels you want to move the line up or down.\n",
    "    '''\n",
    "\n",
    "    first_nonzero_indices = np.argmax(d3_array != 0, axis=axis)\n",
    "\n",
    "    ## Move up or down the line\n",
    "    first_nonzero_indices = first_nonzero_indices+moveLine # Units to move the line. If > 0  the line will be lower, useful to get the basal? If < 0 the line will be higher, useful for apical.\n",
    "    first_nonzero_indices[first_nonzero_indices < 0] = 0\n",
    "    first_nonzero_indices[first_nonzero_indices >= d3_array.shape[1]] = d3_array.shape[1]-1\n",
    "    ## Fi move up or down the line\n",
    "\n",
    "    top_mask_r = np.zeros_like(d3_array)\n",
    "    top_mask_r[np.arange(d3_array.shape[0])[:, None, None], first_nonzero_indices[:, None, :], np.arange(d3_array.shape[2])] = 1 # Top mask is a 3D array that contains the top line of the actual mask\n",
    "    if axis==0:\n",
    "        top_mask_r[0,:,:] = 0\n",
    "    if axis==1:\n",
    "        top_mask_r[:,0,:] = 0\n",
    "    if axis==2:\n",
    "        top_mask_r[:,:,0] = 0\n",
    "\n",
    "    return top_mask_r"
   ]
  },
  {
   "cell_type": "code",
   "execution_count": 3,
   "metadata": {},
   "outputs": [],
   "source": [
    "time_dome = str(3)\n",
    "image = sk.io.imread('./../ppujol/zmap/62_denoised time '+time_dome+'.tif') # Image from top\n",
    "image_r = np.transpose(image, axes=(1,0,2))\n",
    "image_r = np.transpose(image_r, axes=(2, 1, 0)) # Image from side front"
   ]
  },
  {
   "cell_type": "code",
   "execution_count": 4,
   "metadata": {},
   "outputs": [
    {
     "name": "stdout",
     "output_type": "stream",
     "text": [
      "Convolving: 1/3\n",
      "Convolving: 2/3\n",
      "Convolving: 3/3\n",
      "Deconvolving: 3/3\n",
      "Deconvolving: 2/3\n",
      "Deconvolving: 1/3\n"
     ]
    }
   ],
   "source": [
    "doter = dotim(image_r, is2D=False, treat_3D_as_2D=False)\n",
    "mask_r = doter.get_mask(times=3, binshape=(2,2,2), v='+') # Get the mask from side front\n",
    "mask_r = mask_r.astype(np.uint16) # Make the mask uint16"
   ]
  },
  {
   "cell_type": "code",
   "execution_count": 17,
   "metadata": {},
   "outputs": [],
   "source": [
    "closed_mask_r = []\n",
    "for i in mask_r:\n",
    "    full = cv2.morphologyEx(i, cv2.MORPH_CLOSE, np.ones((10, 10)))\n",
    "    closed_mask_r.append(full)\n",
    "\n",
    "closed_mask = np.array(closed_mask_r) # Mask once closed\n",
    "\n",
    "## Find the top line of the mask\n",
    "first_nonzero_indices = np.argmax(closed_mask != 0, axis=1)\n",
    "top_mask = np.zeros_like(closed_mask) # Line from top\n",
    "top_mask[np.arange(closed_mask.shape[0])[:, None, None], first_nonzero_indices[:, None, :], np.arange(closed_mask.shape[2])] = 1 # Top mask is a 3D array that contains the top line of the actual mask\n",
    "\n",
    "## Find the left line of the mask\n",
    "first_left_nonzero_indices = np.argmax(closed_mask != 0, axis=2)\n",
    "left_mask = np.zeros_like(closed_mask) # Line from left\n",
    "left_mask[np.arange(closed_mask.shape[0])[:, None, None], np.arange(closed_mask.shape[1]), first_left_nonzero_indices[None, :, None]] = 1 # Top mask is a 3D array that contains the left line of the actual mask\n",
    "\n",
    "## Find the right line of the mask\n",
    "last_right_nonzero_indices = closed_mask.shape[2] - np.argmax(closed_mask[:, :, ::-1] != 0, axis=2) - 1\n",
    "right_mask = np.zeros_like(closed_mask) # Line from right\n",
    "right_mask[np.arange(closed_mask.shape[0])[:, None, None], np.arange(closed_mask.shape[1]), last_right_nonzero_indices[None, :, None]] = 1 # Right mask is a 3D array that contains the right line of the actual mask\n",
    "\n",
    "sum_mask = top_mask+left_mask+right_mask # Sum of lines from top\n",
    "# Make the first and last for each axis 0.\n",
    "sum_mask[0, :, :] = 0\n",
    "sum_mask[-1, :, :] = 0\n",
    "sum_mask[:, 0, :] = 0\n",
    "sum_mask[:, -1, :] = 0\n",
    "sum_mask[:, :, 0] = 0\n",
    "sum_mask[:, :, -1] = 0\n",
    "\n",
    "sum_mask = np.transpose(sum_mask, axes=(1,2,0)) # Sum viewed from top\n",
    "\n",
    "sum_mask_r = np.transpose(sum_mask, axes=(1,0,2))\n",
    "sum_mask_r = np.transpose(sum_mask_r, axes=(2, 1, 0)) # Sum of lines side front"
   ]
  },
  {
   "cell_type": "code",
   "execution_count": 21,
   "metadata": {},
   "outputs": [
    {
     "name": "stderr",
     "output_type": "stream",
     "text": [
      "/tmp/ipykernel_896106/3750482522.py:3: UserWarning: Input image is entirely zero, no valid convex hull. Returning empty image\n",
      "  hull.append(sk.morphology.convex_hull_image(i))\n"
     ]
    }
   ],
   "source": [
    "hull = []\n",
    "for i in sum_mask:\n",
    "    hull.append(sk.morphology.convex_hull_image(i))\n",
    "\n",
    "hull = np.array(hull) # Hull is a closed volume that should contain all the cells or pass through them. View top\n",
    "hull = hull.astype(np.uint8)\n",
    "\n",
    "hull_r = np.transpose(hull, axes=(1,0,2))\n",
    "hull_r = np.transpose(hull_r, axes=(2, 1, 0)) # Hull_r is viewed from side front\n",
    "\n",
    "hull_mask_r = first_nonzero(hull_r, axis=1) # This is the top line of hull_r\n",
    "hull_mask = np.transpose(hull_mask_r, axes=(1,2,0)) # This is the top hull line viewed from top"
   ]
  },
  {
   "cell_type": "code",
   "execution_count": 22,
   "metadata": {},
   "outputs": [],
   "source": [
    "hull_mask = hull_mask.astype(np.float64)\n",
    "filtered_hull = gaussian_filter(hull_mask, 20)\n",
    "filtered_hull = normalize_image(filtered_hull)\n",
    "epithelial_hull = filtered_hull*image # The gaussian cells viewed from top obtained using hull\n",
    "\n",
    "sum_mask = sum_mask.astype(np.float64)\n",
    "filtered_sum = gaussian_filter(sum_mask, 20)\n",
    "filtered_sum = normalize_image(filtered_sum)\n",
    "epithelial_sum = filtered_sum*image  # The gaussian cells viewed from top obtained using sum lines\n",
    "\n",
    "epithelial_hull_r = np.transpose(epithelial_hull, axes=(1,0,2))\n",
    "epithelial_hull_r = np.transpose(epithelial_hull_r, axes=(2, 1, 0)) # The epithelial obtained from hull from front\n",
    "\n",
    "filtered_hull_r = np.transpose(filtered_hull, axes=(1,0,2)) # The gaussian obtained from hull from front\n",
    "filtered_hull_r = np.transpose(filtered_hull_r, axes=(2, 1, 0))\n",
    "\n",
    "epithelial_sum_r = np.transpose(epithelial_sum, axes=(1,0,2))\n",
    "epithelial_sum_r = np.transpose(epithelial_sum_r, axes=(2, 1, 0)) # The epithelial obtained from sum from front\n",
    "\n",
    "filtered_sum_r = np.transpose(filtered_sum, axes=(1,0,2))\n",
    "filtered_sum_r = np.transpose(filtered_sum_r, axes=(2, 1, 0)) # The gaussian obtained from sum from front"
   ]
  },
  {
   "cell_type": "code",
   "execution_count": 23,
   "metadata": {},
   "outputs": [],
   "source": [
    "def shape_finder_2D(epithelial, angle=40):\n",
    "    '''\n",
    "    Falling line algorithm for 2D front image rotation, delta degree = 20º\n",
    "    - epithelial is the 2D image that has to be fed from front\n",
    "    - angle is the max rotation for the 2D image\n",
    "    '''\n",
    "\n",
    "    angles = [i for i in range(-angle, angle+1, 20)]\n",
    "    # angles = [-40]\n",
    "    total_cell_mask = np.zeros(shape=(epithelial.shape))\n",
    "\n",
    "    for angle in angles:\n",
    "\n",
    "        ## Rotate the masked image.        \n",
    "        rot_height_mask = rotate(epithelial, angle, reshape=False) # Be careful of the reshape=False\n",
    "        ## Find the border of the cell which is the maximum of this masked image.\n",
    "        cell_border = []\n",
    "\n",
    "        ## Get the position of the maximum intensity.\n",
    "        for i in range(rot_height_mask.shape[1]):\n",
    "            col = rot_height_mask[:, i]\n",
    "            max_pos = np.argmax(col == max(col))\n",
    "\n",
    "            if max_pos <= len(col)*0.95 and max_pos >= len(col)*0.05 and max(col) >= col.mean()+2*col.std(): # 3 IS SUPER CONSERVATIVE\n",
    "                cell_border.append(max_pos) # Search for the first max\n",
    "            else:\n",
    "                cell_border.append('-')\n",
    "\n",
    "        ## Put the positions in a matrix as we have done with the smoothed line before.\n",
    "        cell_top_mask_rot = np.zeros_like(rot_height_mask)\n",
    "        for i in range(cell_top_mask_rot.shape[1]):\n",
    "            if cell_border[i] != '-':\n",
    "                cell_top_mask_rot[cell_border[i], i] = 1\n",
    "\n",
    "        ## Rotate the matrix to have it horizontal as the original image.\n",
    "        cell_top_mask_rot = rotate(cell_top_mask_rot, -angle, reshape=False)\n",
    "        cell_top_mask_rot[cell_top_mask_rot < 0] = 0\n",
    "        horizontal_cut = 4\n",
    "        cell_top_mask_rot[:, :horizontal_cut] = 0\n",
    "        cell_top_mask_rot[:, -horizontal_cut:] = 0\n",
    "        total_cell_mask += cell_top_mask_rot\n",
    "\n",
    "    return np.array(total_cell_mask)\n",
    "\n",
    "\n",
    "def shape_finder_2D_v2(hull_lines, hull_mask, sum_lines, sum_mask, angle=40):\n",
    "    '''\n",
    "    Get the first approximation using hull and sum lines, delta degree = 20º\n",
    "    - hull_lines is the epithelial obtained from hull mask\n",
    "    - hull_mask is the gaussian or the line obtained using hull from front\n",
    "    - sum_lines is the epithelial obtained from sum mask\n",
    "    - sum_mask is the gaussian or the line obtained using hull from front\n",
    "    - angle is the max rotation for the 2D image\n",
    "    '''\n",
    "    angles = [i for i in range(-angle, angle+1, 20)]\n",
    "    # angles = [40]\n",
    "    total_cell_mask = np.zeros(shape=(hull_lines.shape))\n",
    "\n",
    "    for angle in angles:\n",
    "\n",
    "        ## Rotate the masked image.        \n",
    "        rot_hull_lines = rotate(hull_lines, angle, reshape=False) # Be careful of the reshape=False\n",
    "        rot_hull_mask = rotate(hull_mask, angle, reshape=False)\n",
    "        rot_sum_lines = rotate(sum_lines, angle, reshape=False)\n",
    "        rot_sum_mask = rotate(sum_mask, angle, reshape=False)\n",
    "        cell_border = []\n",
    "\n",
    "        ## Get the position of the maximum intensity.\n",
    "        for i in range(rot_hull_lines.shape[1]):\n",
    "            col_hull_lines = rot_hull_lines[:, i]\n",
    "            max_pos_hull_lines = np.argmax(col_hull_lines == max(col_hull_lines))\n",
    "            col_hull_mask = rot_hull_mask[:, i]\n",
    "            max_pos_hull_mask = np.argmax(col_hull_mask == max(col_hull_mask))\n",
    "\n",
    "            col_sum_lines = rot_sum_lines[:, i]\n",
    "            max_pos_sum_lines = np.argmax(col_sum_lines == max(col_sum_lines))\n",
    "            col_sum_mask = rot_sum_mask[:, i]\n",
    "            max_pos_sum_mask = np.argmax(col_sum_mask == max(col_sum_mask))\n",
    "\n",
    "            # print(max_pos_hull_lines, max_pos_hull_mask, abs(max_pos_hull_lines-max_pos_hull_mask)/max_pos_hull_mask)\n",
    "\n",
    "\n",
    "            #   Check that the position is lower than the col ------ Check that the position is grater than the bottom -- \n",
    "            if ((max_pos_hull_lines <= len(col_hull_lines)*0.90) and (max_pos_hull_lines >= len(col_hull_lines)*0.1) and \n",
    "                # Check that the column has some variation 3 is super conservative ------- Check the distance to the original line\n",
    "                (max(col_hull_lines) >= col_hull_lines.mean()+3*col_hull_lines.std()) and (abs(max_pos_hull_lines-max_pos_hull_mask)/max_pos_hull_mask >= 0.05)): # 3 IS SUPER CONSERVATIVE\n",
    "                cell_border.append(max_pos_hull_lines) # Search for the first max\n",
    "\n",
    "            #   Check that the position is lower than the col ------ Check that the position is grater than the bottom -- \n",
    "            elif ((max_pos_sum_lines <= len(col_sum_lines)*0.90) and (max_pos_sum_lines >= len(col_sum_lines)*0.1) and \n",
    "                # Check that the column has some variation 3 is super conservative ------- Check the distance to the original line\n",
    "                (max(col_sum_lines) >= col_sum_lines.mean()+2*col_sum_lines.std()) and (abs(max_pos_sum_lines-max_pos_sum_mask)/max_pos_sum_mask >= 0.05)): # 3 IS SUPER CONSERVATIVE\n",
    "                cell_border.append(max_pos_sum_lines) # Search for the first max\n",
    "\n",
    "            else:\n",
    "                cell_border.append('-')\n",
    "                # cell_border.append(max_pos_sum_lines) \n",
    "\n",
    "        ## Put the positions in a matrix as we have done with the smoothed line before.\n",
    "        cell_top_mask_rot = np.zeros_like(rot_hull_lines)\n",
    "        for i in range(cell_top_mask_rot.shape[1]):\n",
    "            if cell_border[i] != '-':\n",
    "                cell_top_mask_rot[cell_border[i], i] = 1\n",
    "\n",
    "        ## Rotate the matrix to have it horizontal as the original image.\n",
    "        cell_top_mask_rot = rotate(cell_top_mask_rot, -angle, reshape=False)\n",
    "        cell_top_mask_rot[cell_top_mask_rot < 0] = 0\n",
    "        horizontal_cut = 4\n",
    "        cell_top_mask_rot[:, :horizontal_cut] = 0\n",
    "        cell_top_mask_rot[:, -horizontal_cut:] = 0\n",
    "        total_cell_mask += cell_top_mask_rot\n",
    "\n",
    "    return np.array(total_cell_mask)"
   ]
  },
  {
   "cell_type": "code",
   "execution_count": 24,
   "metadata": {},
   "outputs": [
    {
     "name": "stderr",
     "output_type": "stream",
     "text": [
      "/tmp/ipykernel_896106/3244055318.py:86: RuntimeWarning: divide by zero encountered in scalar divide\n",
      "  (max(col_hull_lines) >= col_hull_lines.mean()+3*col_hull_lines.std()) and (abs(max_pos_hull_lines-max_pos_hull_mask)/max_pos_hull_mask >= 0.05)): # 3 IS SUPER CONSERVATIVE\n",
      "/tmp/ipykernel_896106/3244055318.py:92: RuntimeWarning: divide by zero encountered in scalar divide\n",
      "  (max(col_sum_lines) >= col_sum_lines.mean()+2*col_sum_lines.std()) and (abs(max_pos_sum_lines-max_pos_sum_mask)/max_pos_sum_mask >= 0.05)): # 3 IS SUPER CONSERVATIVE\n"
     ]
    },
    {
     "name": "stdout",
     "output_type": "stream",
     "text": [
      "526/526\r"
     ]
    }
   ],
   "source": [
    "surface_cells_r = []\n",
    "c = 0\n",
    "total = epithelial_hull_r.shape[0]\n",
    "for i, j, k, l in zip(normalize_image(epithelial_hull_r), normalize_image(hull_mask_r), normalize_image(epithelial_sum_r), normalize_image(sum_mask_r)):\n",
    "    surface_cells_r.append(shape_finder_2D_v2(i, j, k, l))\n",
    "    c+=1\n",
    "    print(f\"{c}/{total}\", end='\\r')\n",
    "surface_cells_r = np.array(surface_cells_r) # This is the first iteration of falling line using both hull and sum lines\n",
    "\n",
    "surface_cells = np.transpose(surface_cells_r, axes=(1,2,0)) # Rotate the surface cells to be viewed from top\n",
    "surface_cells = surface_cells.astype(np.uint16) ### MISSING NORMALIZE?"
   ]
  },
  {
   "cell_type": "code",
   "execution_count": 25,
   "metadata": {},
   "outputs": [],
   "source": [
    "dots_mask_mask = surface_cells.astype(np.float64)\n",
    "filtered_mask_mask = gaussian_filter(dots_mask_mask, 20) # This is the gaussian obtained from the first iteration\n",
    "filtered_mask_mask = normalize_image(filtered_mask_mask)\n",
    "epithelial_mask_mask = filtered_mask_mask*image # Epithelial from the first iteration\n",
    "\n",
    "epithelial_mask_mask_r = np.transpose(epithelial_mask_mask, axes=(1,0,2))\n",
    "epithelial_mask_mask_r = np.transpose(epithelial_mask_mask_r, axes=(2, 1, 0)) # First iteration from front\n",
    "\n",
    "filtered_mask_mask_r = np.transpose(filtered_mask_mask, axes=(1,0,2))\n",
    "filtered_mask_mask_r = np.transpose(filtered_mask_mask_r, axes=(2, 1, 0)) # First gaussian from front"
   ]
  },
  {
   "cell_type": "code",
   "execution_count": 26,
   "metadata": {},
   "outputs": [
    {
     "name": "stdout",
     "output_type": "stream",
     "text": [
      "526/526\r"
     ]
    }
   ],
   "source": [
    "surface_cells_mask_r = []\n",
    "c = 0\n",
    "total = epithelial_mask_mask_r.shape[0]\n",
    "for i in epithelial_mask_mask_r:\n",
    "    surface_cells_mask_r.append(shape_finder_2D(i))\n",
    "    c+=1\n",
    "    print(f\"{c}/{total}\", end='\\r')\n",
    "surface_cells_mask_r = np.array(surface_cells_mask_r) # This is the 'final dot-cell result\n",
    "\n",
    "surface_cells_mask_filter_r = surface_cells_mask_r * filtered_mask_mask_r # the result multiplied by the filter\n",
    "\n",
    "surface_cells_mask = np.transpose(surface_cells_mask_r, axes=(1,2,0))\n",
    "surface_cells_mask = normalize_image(surface_cells_mask, 65535)\n",
    "surface_cells_mask = surface_cells_mask.astype(np.uint16) # Raw dots without gaussian\n",
    "\n",
    "surface_cells_mask_filter = np.transpose(surface_cells_mask_filter_r, axes=(1,2,0))\n",
    "surface_cells_mask_filter = normalize_image(surface_cells_mask_filter, 65535)\n",
    "surface_cells_mask_filter = surface_cells_mask_filter.astype(np.uint16) # Dots with gaussian"
   ]
  },
  {
   "cell_type": "markdown",
   "metadata": {},
   "source": [
    "# End of falling line\n",
    "\n",
    "Now we should have a proper position of the cells. We can transform this onto a height map. Or we could smooth this line and then make a gaussian to multiply by the image, find the brightest point and position and then build a height map."
   ]
  },
  {
   "cell_type": "code",
   "execution_count": null,
   "metadata": {},
   "outputs": [],
   "source": []
  }
 ],
 "metadata": {
  "kernelspec": {
   "display_name": "pynapari",
   "language": "python",
   "name": "python3"
  },
  "language_info": {
   "codemirror_mode": {
    "name": "ipython",
    "version": 3
   },
   "file_extension": ".py",
   "mimetype": "text/x-python",
   "name": "python",
   "nbconvert_exporter": "python",
   "pygments_lexer": "ipython3",
   "version": "3.10.12"
  }
 },
 "nbformat": 4,
 "nbformat_minor": 2
}
