{
 "cells": [
  {
   "cell_type": "code",
   "execution_count": 11,
   "metadata": {},
   "outputs": [],
   "source": [
    "from n2v.models import N2VConfig, N2V\n",
    "import numpy as np\n",
    "from csbdeep.utils import plot_history\n",
    "from n2v.utils.n2v_utils import manipulate_val_data\n",
    "from n2v.internals.N2V_DataGenerator import N2V_DataGenerator\n",
    "from matplotlib import pyplot as plt\n",
    "import urllib\n",
    "import os"
   ]
  },
  {
   "cell_type": "code",
   "execution_count": 12,
   "metadata": {},
   "outputs": [
    {
     "name": "stdout",
     "output_type": "stream",
     "text": [
      "(1, 320, 796, 796, 1)\n"
     ]
    }
   ],
   "source": [
    "datagen = N2V_DataGenerator()\n",
    "image = datagen.load_imgs_from_directory(directory=\"domes/\", filter='*processed.tif', dims='ZYX') #check how it opens the image zyx\n",
    "print(image[0].shape)"
   ]
  },
  {
   "cell_type": "code",
   "execution_count": 13,
   "metadata": {},
   "outputs": [
    {
     "name": "stdout",
     "output_type": "stream",
     "text": [
      "Generated patches: (11520, 32, 64, 64, 1)\n"
     ]
    }
   ],
   "source": [
    "patch_shape = (32, 64, 64)\n",
    "patches = datagen.generate_patches_from_list(image[:1], shape=patch_shape)"
   ]
  },
  {
   "cell_type": "code",
   "execution_count": 14,
   "metadata": {},
   "outputs": [],
   "source": [
    "# We have generated 11520 patches\n",
    "X = patches[:10368]\n",
    "X_val = patches[10368:]"
   ]
  },
  {
   "cell_type": "code",
   "execution_count": 15,
   "metadata": {},
   "outputs": [
    {
     "data": {
      "text/plain": [
       "{'means': ['32.294025'],\n",
       " 'stds': ['32.808567'],\n",
       " 'n_dim': 3,\n",
       " 'axes': 'ZYXC',\n",
       " 'n_channel_in': 1,\n",
       " 'n_channel_out': 1,\n",
       " 'unet_residual': False,\n",
       " 'unet_n_depth': 2,\n",
       " 'unet_kern_size': 3,\n",
       " 'unet_n_first': 32,\n",
       " 'unet_last_activation': 'linear',\n",
       " 'unet_input_shape': (None, None, None, 1),\n",
       " 'train_loss': 'mse',\n",
       " 'train_epochs': 20,\n",
       " 'train_steps_per_epoch': 81,\n",
       " 'train_learning_rate': 0.0004,\n",
       " 'train_batch_size': 4,\n",
       " 'train_tensorboard': True,\n",
       " 'train_checkpoint': 'weights_best.h5',\n",
       " 'train_reduce_lr': {'factor': 0.5, 'patience': 10},\n",
       " 'batch_norm': True,\n",
       " 'n2v_perc_pix': 0.198,\n",
       " 'n2v_patch_shape': (32, 64, 64),\n",
       " 'n2v_manipulator': 'uniform_withCP',\n",
       " 'n2v_neighborhood_radius': 5,\n",
       " 'single_net_per_channel': True,\n",
       " 'blurpool': False,\n",
       " 'skip_skipone': False,\n",
       " 'structN2Vmask': None,\n",
       " 'probabilistic': False}"
      ]
     },
     "execution_count": 15,
     "metadata": {},
     "output_type": "execute_result"
    }
   ],
   "source": [
    "# You can increase \"train_steps_per_epoch\" to get even better results at the price of longer computation. \n",
    "config = N2VConfig(X, unet_kern_size=3, \n",
    "                   train_steps_per_epoch=int(X.shape[0]/128),train_epochs=20, train_loss='mse', batch_norm=True, \n",
    "                   train_batch_size=4, n2v_perc_pix=0.198, n2v_patch_shape=(32, 64, 64), \n",
    "                   n2v_manipulator='uniform_withCP', n2v_neighborhood_radius=5)\n",
    "\n",
    "# Let's look at the parameters stored in the config-object.\n",
    "vars(config)"
   ]
  },
  {
   "cell_type": "code",
   "execution_count": 16,
   "metadata": {},
   "outputs": [
    {
     "name": "stderr",
     "output_type": "stream",
     "text": [
      "d:\\Python_vscode\\venv_tf\\Lib\\site-packages\\n2v\\models\\n2v_standard.py:429: UserWarning: output path for model already exists, files may be overwritten: D:\\Python_vscode\\n2v_models\\dome103_3d\n",
      "  warnings.warn(\n"
     ]
    }
   ],
   "source": [
    "# a name used to identify the model\n",
    "model_name = 'dome103_3d'\n",
    "# the base directory in which our model will live\n",
    "basedir = 'n2v_models'\n",
    "# We are now creating our network model.\n",
    "model = N2V(config=config, name=model_name, basedir=basedir)"
   ]
  },
  {
   "cell_type": "code",
   "execution_count": 17,
   "metadata": {},
   "outputs": [
    {
     "name": "stdout",
     "output_type": "stream",
     "text": [
      "259 blind-spots will be generated per training patch of size (32, 64, 64).\n"
     ]
    },
    {
     "name": "stderr",
     "output_type": "stream",
     "text": [
      "Preparing validation data: 100%|██████████| 1152/1152 [00:00<00:00, 1399.13it/s]\n"
     ]
    },
    {
     "name": "stdout",
     "output_type": "stream",
     "text": [
      "Epoch 1/20\n",
      "3/3 [==============================] - 2s 444ms/steposs: 0.9978 - n2v_mse: 0.9978 - n2v_abs: 0\n",
      "81/81 [==============================] - 2486s 31s/step - loss: 0.9978 - n2v_mse: 0.9978 - n2v_abs: 0.5088 - val_loss: 0.5785 - val_n2v_mse: 0.5785 - val_n2v_abs: 0.4257 - lr: 4.0000e-04\n",
      "Epoch 2/20\n",
      "3/3 [==============================] - 2s 537ms/steposs: 0.6133 - n2v_mse: 0.6133 - n2v_abs: 0\n",
      "81/81 [==============================] - 3063s 38s/step - loss: 0.6133 - n2v_mse: 0.6133 - n2v_abs: 0.4099 - val_loss: 0.3545 - val_n2v_mse: 0.3545 - val_n2v_abs: 0.3704 - lr: 4.0000e-04\n",
      "Epoch 3/20\n",
      "3/3 [==============================] - 1s 481ms/steposs: 0.3425 - n2v_mse: 0.3425 - n2v_abs: 0\n",
      "81/81 [==============================] - 3102s 38s/step - loss: 0.3425 - n2v_mse: 0.3425 - n2v_abs: 0.3548 - val_loss: 0.3621 - val_n2v_mse: 0.3621 - val_n2v_abs: 0.2505 - lr: 4.0000e-04\n",
      "Epoch 4/20\n",
      "3/3 [==============================] - 1s 403ms/steposs: 0.3929 - n2v_mse: 0.3929 - n2v_abs: 0\n",
      "81/81 [==============================] - 3167s 39s/step - loss: 0.3929 - n2v_mse: 0.3929 - n2v_abs: 0.3262 - val_loss: 0.0946 - val_n2v_mse: 0.0946 - val_n2v_abs: 0.2058 - lr: 4.0000e-04\n",
      "Epoch 5/20\n",
      "3/3 [==============================] - 2s 492ms/steposs: 0.3740 - n2v_mse: 0.3740 - n2v_abs: 0\n",
      "81/81 [==============================] - 3129s 39s/step - loss: 0.3740 - n2v_mse: 0.3740 - n2v_abs: 0.3405 - val_loss: 0.2980 - val_n2v_mse: 0.2980 - val_n2v_abs: 0.2209 - lr: 4.0000e-04\n",
      "Epoch 6/20\n",
      "3/3 [==============================] - 1s 470ms/steposs: 0.2949 - n2v_mse: 0.2949 - n2v_abs: 0\n",
      "81/81 [==============================] - 3128s 39s/step - loss: 0.2949 - n2v_mse: 0.2949 - n2v_abs: 0.3004 - val_loss: 0.3226 - val_n2v_mse: 0.3226 - val_n2v_abs: 0.2898 - lr: 4.0000e-04\n",
      "Epoch 7/20\n",
      "3/3 [==============================] - 1s 462ms/steposs: 0.3422 - n2v_mse: 0.3422 - n2v_abs: 0\n",
      "81/81 [==============================] - 3121s 39s/step - loss: 0.3422 - n2v_mse: 0.3422 - n2v_abs: 0.2962 - val_loss: 0.4704 - val_n2v_mse: 0.4704 - val_n2v_abs: 0.3871 - lr: 4.0000e-04\n",
      "Epoch 8/20\n",
      "3/3 [==============================] - 1s 436ms/steposs: 0.2511 - n2v_mse: 0.2511 - n2v_abs: 0\n",
      "81/81 [==============================] - 3110s 38s/step - loss: 0.2511 - n2v_mse: 0.2511 - n2v_abs: 0.2988 - val_loss: 0.2012 - val_n2v_mse: 0.2012 - val_n2v_abs: 0.2110 - lr: 4.0000e-04\n",
      "Epoch 9/20\n",
      "3/3 [==============================] - 1s 324ms/steposs: 0.4373 - n2v_mse: 0.4373 - n2v_abs: 0\n",
      "81/81 [==============================] - 2592s 32s/step - loss: 0.4373 - n2v_mse: 0.4373 - n2v_abs: 0.3263 - val_loss: 0.0715 - val_n2v_mse: 0.0715 - val_n2v_abs: 0.1842 - lr: 4.0000e-04\n",
      "Epoch 10/20\n",
      "3/3 [==============================] - 1s 333ms/steposs: 0.2434 - n2v_mse: 0.2434 - n2v_abs: 0\n",
      "81/81 [==============================] - 2165s 27s/step - loss: 0.2434 - n2v_mse: 0.2434 - n2v_abs: 0.2830 - val_loss: 0.1008 - val_n2v_mse: 0.1008 - val_n2v_abs: 0.1669 - lr: 4.0000e-04\n",
      "Epoch 11/20\n",
      "3/3 [==============================] - 1s 351ms/steposs: 0.3850 - n2v_mse: 0.3850 - n2v_abs: 0\n",
      "81/81 [==============================] - 2166s 27s/step - loss: 0.3850 - n2v_mse: 0.3850 - n2v_abs: 0.3434 - val_loss: 0.2503 - val_n2v_mse: 0.2503 - val_n2v_abs: 0.2846 - lr: 4.0000e-04\n",
      "Epoch 12/20\n",
      "3/3 [==============================] - 1s 308ms/steposs: 0.2572 - n2v_mse: 0.2572 - n2v_abs: 0\n",
      "81/81 [==============================] - 2168s 27s/step - loss: 0.2572 - n2v_mse: 0.2572 - n2v_abs: 0.3056 - val_loss: 0.1530 - val_n2v_mse: 0.1530 - val_n2v_abs: 0.2024 - lr: 4.0000e-04\n",
      "Epoch 13/20\n",
      "3/3 [==============================] - 1s 331ms/steposs: 0.3959 - n2v_mse: 0.3959 - n2v_abs: 0\n",
      "81/81 [==============================] - 2166s 27s/step - loss: 0.3959 - n2v_mse: 0.3959 - n2v_abs: 0.3706 - val_loss: 0.3233 - val_n2v_mse: 0.3233 - val_n2v_abs: 0.3064 - lr: 4.0000e-04\n",
      "Epoch 14/20\n",
      "3/3 [==============================] - 1s 339ms/steposs: 0.3522 - n2v_mse: 0.3522 - n2v_abs: 0\n",
      "81/81 [==============================] - 2169s 27s/step - loss: 0.3522 - n2v_mse: 0.3522 - n2v_abs: 0.3311 - val_loss: 0.0858 - val_n2v_mse: 0.0858 - val_n2v_abs: 0.1667 - lr: 4.0000e-04\n",
      "Epoch 15/20\n",
      "3/3 [==============================] - 1s 340ms/steposs: 0.3160 - n2v_mse: 0.3160 - n2v_abs: 0\n",
      "81/81 [==============================] - 2167s 27s/step - loss: 0.3160 - n2v_mse: 0.3160 - n2v_abs: 0.2689 - val_loss: 0.1564 - val_n2v_mse: 0.1564 - val_n2v_abs: 0.1710 - lr: 4.0000e-04\n",
      "Epoch 16/20\n",
      "3/3 [==============================] - 1s 358ms/steposs: 0.3337 - n2v_mse: 0.3337 - n2v_abs: 0\n",
      "81/81 [==============================] - 2170s 27s/step - loss: 0.3337 - n2v_mse: 0.3337 - n2v_abs: 0.2978 - val_loss: 1.0004 - val_n2v_mse: 1.0004 - val_n2v_abs: 0.3918 - lr: 4.0000e-04\n",
      "Epoch 17/20\n",
      "3/3 [==============================] - 1s 329ms/steposs: 0.3916 - n2v_mse: 0.3916 - n2v_abs: 0\n",
      "81/81 [==============================] - 2170s 27s/step - loss: 0.3916 - n2v_mse: 0.3916 - n2v_abs: 0.3523 - val_loss: 2.6994 - val_n2v_mse: 2.6994 - val_n2v_abs: 0.4992 - lr: 4.0000e-04\n",
      "Epoch 18/20\n",
      "3/3 [==============================] - 1s 335ms/steposs: 0.3892 - n2v_mse: 0.3892 - n2v_abs: 0\n",
      "81/81 [==============================] - 2172s 27s/step - loss: 0.3892 - n2v_mse: 0.3892 - n2v_abs: 0.3422 - val_loss: 0.2398 - val_n2v_mse: 0.2398 - val_n2v_abs: 0.2068 - lr: 4.0000e-04\n",
      "Epoch 19/20\n",
      "81/81 [==============================] - ETA: 0s - loss: 0.4543 - n2v_mse: 0.4543 - n2v_abs: 0.3447 \n",
      "Epoch 19: ReduceLROnPlateau reducing learning rate to 0.00019999999494757503.\n",
      "3/3 [==============================] - 1s 326ms/step\n",
      "81/81 [==============================] - 2172s 27s/step - loss: 0.4543 - n2v_mse: 0.4543 - n2v_abs: 0.3447 - val_loss: 0.4745 - val_n2v_mse: 0.4745 - val_n2v_abs: 0.3469 - lr: 4.0000e-04\n",
      "Epoch 20/20\n",
      "3/3 [==============================] - 1s 341ms/steposs: 0.1911 - n2v_mse: 0.1911 - n2v_abs: 0\n",
      "81/81 [==============================] - 2168s 27s/step - loss: 0.1911 - n2v_mse: 0.1911 - n2v_abs: 0.2502 - val_loss: 0.3266 - val_n2v_mse: 0.3266 - val_n2v_abs: 0.3169 - lr: 2.0000e-04\n",
      "\n",
      "Loading network weights from 'weights_best.h5'.\n"
     ]
    }
   ],
   "source": [
    "history = model.train(X, X_val)"
   ]
  },
  {
   "cell_type": "code",
   "execution_count": 18,
   "metadata": {},
   "outputs": [
    {
     "name": "stdout",
     "output_type": "stream",
     "text": [
      "['loss', 'lr', 'n2v_abs', 'n2v_mse', 'val_loss', 'val_n2v_abs', 'val_n2v_mse']\n"
     ]
    },
    {
     "data": {
      "image/png": "[encoded data removed]",
      "text/plain": [
       "<Figure size 1600x500 with 1 Axes>"
      ]
     },
     "metadata": {},
     "output_type": "display_data"
    }
   ],
   "source": [
    "print(sorted(list(history.history.keys())))\n",
    "plt.figure(figsize=(16,5))\n",
    "plot_history(history,['loss','val_loss']);"
   ]
  },
  {
   "cell_type": "code",
   "execution_count": 19,
   "metadata": {},
   "outputs": [
    {
     "name": "stdout",
     "output_type": "stream",
     "text": [
      "1/1 [==============================] - 1s 748ms/step\n",
      "WARNING:tensorflow:From d:\\Python_vscode\\venv_tf\\Lib\\site-packages\\keras\\src\\layers\\normalization\\batch_normalization.py:883: _colocate_with (from tensorflow.python.framework.ops) is deprecated and will be removed in a future version.\n",
      "Instructions for updating:\n",
      "Colocations handled automatically by placer.\n",
      "WARNING:tensorflow:From d:\\Python_vscode\\venv_tf\\Lib\\site-packages\\tensorflow\\python\\saved_model\\signature_def_utils_impl.py:225: build_tensor_info (from tensorflow.python.saved_model.utils_impl) is deprecated and will be removed in a future version.\n",
      "Instructions for updating:\n",
      "This API was designed for TensorFlow v1. See https://www.tensorflow.org/guide/migrate for instructions on how to migrate your code to TensorFlow v2.\n",
      "INFO:tensorflow:No assets to save.\n",
      "INFO:tensorflow:No assets to write.\n"
     ]
    },
    {
     "name": "stderr",
     "output_type": "stream",
     "text": [
      "d:\\Python_vscode\\venv_tf\\Lib\\site-packages\\csbdeep\\utils\\tf.py:177: UserWarning: \n",
      "***IMPORTANT NOTE***\n",
      "\n",
      "You are using 'tensorflow' 2.x, hence it is likely that the exported model *will not work*\n",
      "in associated ImageJ/Fiji plugins (e.g. CSBDeep and StarDist).\n",
      "\n",
      "If you indeed have problems loading the exported model in Fiji, the current workaround is\n",
      "to load the trained model in a Python environment with installed 'tensorflow' 1.x and then\n",
      "export it again. If you need help with this, please read:\n",
      "\n",
      "https://gist.github.com/uschmidt83/4b747862fe307044c722d6d1009f6183\n",
      "\n",
      "  warnings.warn(\\\n"
     ]
    },
    {
     "name": "stdout",
     "output_type": "stream",
     "text": [
      "INFO:tensorflow:SavedModel written to: C:\\Users\\SPIM\\AppData\\Local\\Temp\\tmp3prc5i61\\model\\saved_model.pb\n",
      "\n",
      "Model exported in BioImage ModelZoo format:\n",
      "D:\\Python_vscode\\n2v_models\\dome103_3d\\export.bioimage.io.zip\n"
     ]
    }
   ],
   "source": [
    "model.export_TF(name='Noise2Void - 3D Dome 103 Processed', \n",
    "                description='This is the 3D Noise2Void trained in Dome103_processed.',\n",
    "                authors=[\"Pau\"],\n",
    "                test_img=X_val[0,...], axes='ZYXC',\n",
    "                patch_shape=patch_shape)"
   ]
  },
  {
   "cell_type": "markdown",
   "metadata": {},
   "source": [
    "https://github.com/juglab/n2v/blob/main/examples/3D/01_training.ipynb"
   ]
  }
 ],
 "metadata": {
  "kernelspec": {
   "display_name": "venv_tf",
   "language": "python",
   "name": "python3"
  },
  "language_info": {
   "codemirror_mode": {
    "name": "ipython",
    "version": 3
   },
   "file_extension": ".py",
   "mimetype": "text/x-python",
   "name": "python",
   "nbconvert_exporter": "python",
   "pygments_lexer": "ipython3",
   "version": "3.11.6"
  }
 },
 "nbformat": 4,
 "nbformat_minor": 2
}
