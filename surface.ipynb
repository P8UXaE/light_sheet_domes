{
 "cells": [
  {
   "cell_type": "code",
   "execution_count": 1,
   "metadata": {},
   "outputs": [],
   "source": [
    "import napari\n",
    "import numpy as np\n",
    "\n",
    "vertices = np.array([[0, 0, 0], [0, 20, 0], [10, 0, 10], [10, 10, 10]])\n",
    "faces = np.array([[0, 1, 2], [1, 2, 3]])\n",
    "values = np.linspace(0, 1, len(vertices))\n",
    "surface = (vertices, faces, values)\n",
    "viewer = napari.Viewer()\n",
    "viewer = napari.view_surface(surface)  # add the surface"
   ]
  }
 ],
 "metadata": {
  "kernelspec": {
   "display_name": "pynapari",
   "language": "python",
   "name": "python3"
  },
  "language_info": {
   "codemirror_mode": {
    "name": "ipython",
    "version": 3
   },
   "file_extension": ".py",
   "mimetype": "text/x-python",
   "name": "python",
   "nbconvert_exporter": "python",
   "pygments_lexer": "ipython3",
   "version": "3.11.6"
  }
 },
 "nbformat": 4,
 "nbformat_minor": 2
}
