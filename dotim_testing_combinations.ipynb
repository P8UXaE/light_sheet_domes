{
 "cells": [
  {
   "cell_type": "code",
   "execution_count": 1,
   "metadata": {},
   "outputs": [],
   "source": [
    "from dottamine import dotim\n",
    "import numpy as np\n",
    "import skimage as sk\n",
    "# import napari\n",
    "import matplotlib.pyplot as plt"
   ]
  },
  {
   "cell_type": "code",
   "execution_count": 2,
   "metadata": {},
   "outputs": [],
   "source": [
    "image = sk.io.imread('domes/70_denoised.tif') # 4D image\n",
    "# image = sk.io.imread('domes/Nice Domes/70.tif')\n",
    "# image = np.transpose(image[3], axes=(2,0,1))"
   ]
  },
  {
   "cell_type": "code",
   "execution_count": 4,
   "metadata": {},
   "outputs": [
    {
     "name": "stdout",
     "output_type": "stream",
     "text": [
      "Dotamine 2D single image\n",
      "Image shape: (858, 858)\n",
      "Maks shape:  (858, 858)\n",
      "Dotamine 3D single image\n",
      "Convolving: 1/1\n",
      "Deconvolving: 1/1\n",
      "Image shape: (550, 858, 858)\n",
      "Maks shape:  (550, 858, 858)\n",
      "Dotamine 3D single image plane by plane or time by time\n",
      "Image shape: (550, 858, 858)\n",
      "Maks shape:  (550, 858, 858)\n",
      "Dotamine 3D single image plane by plane\n",
      "Image shape: (550, 858, 858)\n",
      "Maks shape:  (550, 858, 858)\n",
      "Dotamine 3D multiple\n",
      "Image shape: (2, 550, 858, 858)\n",
      "Maks shape:  (2, 550, 858, 858)\n",
      "Dotamine 3D multiple plane by plane\n",
      "Image shape: (2, 550, 858, 858)\n",
      "Maks shape:  (2, 550, 858, 858)\n"
     ]
    }
   ],
   "source": [
    "# dottamine test\n",
    "\n",
    "# Dotamine 2D single image\n",
    "print('Dotamine 2D single image')\n",
    "dots = dotim(image=image[2][100], is2D=True)\n",
    "mask = dots.get_mask(times=1, binshape=(100,1), v='+');\n",
    "print('Image shape:', image[2][100].shape)\n",
    "print('Maks shape: ', mask.shape)\n",
    "\n",
    "# Dotamine 3D single image\n",
    "print('Dotamine 3D single image')\n",
    "dots = dotim(image=image[3], is2D=False)\n",
    "mask = dots.get_mask(times=1, binshape=(100,10,1), v='+');\n",
    "print('Image shape:', image[3].shape)\n",
    "print('Maks shape: ', mask.shape)\n",
    "\n",
    "# Dotamine 3D single time by time\n",
    "print('Dotamine 3D single image plane by plane or time by time')\n",
    "dots = dotim(image=image[3], is2D=True)\n",
    "mask = dots.get_mask(times=1, binshape=(100,1), v='+');\n",
    "print('Image shape:', image[3].shape)\n",
    "print('Maks shape: ', mask.shape)\n",
    "\n",
    "# Dotamine 3D single image plane by plane\n",
    "print('Dotamine 3D single image plane by plane')\n",
    "dots = dotim(image=image[3], is2D=False, treat_3D_as_2D=True)\n",
    "mask = dots.get_mask(times=1, binshape=(100,1), v='+');\n",
    "print('Image shape:', image[3].shape)\n",
    "print('Maks shape: ', mask.shape)\n",
    "\n",
    "# Dotamine 3D multiple\n",
    "print('Dotamine 3D multiple')\n",
    "dots = dotim(image=image[3:5], is2D=False)\n",
    "mask = dots.get_mask(times=1, binshape=(100,10, 1), v='+');\n",
    "print('Image shape:', image[3:5].shape)\n",
    "print('Maks shape: ', mask.shape)\n",
    "\n",
    "# Dotamine 3D multiple plane by plane\n",
    "print('Dotamine 3D multiple plane by plane')\n",
    "dots = dotim(image=image[3:5], is2D=False, treat_3D_as_2D=True)\n",
    "mask = dots.get_mask(times=1, binshape=(100,1), v='+');\n",
    "print('Image shape:', image[3:5].shape)\n",
    "print('Maks shape: ', mask.shape)\n"
   ]
  }
 ],
 "metadata": {
  "kernelspec": {
   "display_name": "pynapari",
   "language": "python",
   "name": "python3"
  },
  "language_info": {
   "codemirror_mode": {
    "name": "ipython",
    "version": 3
   },
   "file_extension": ".py",
   "mimetype": "text/x-python",
   "name": "python",
   "nbconvert_exporter": "python",
   "pygments_lexer": "ipython3",
   "version": "3.10.12"
  }
 },
 "nbformat": 4,
 "nbformat_minor": 2
}
