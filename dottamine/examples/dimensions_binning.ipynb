{
 "cells": [
  {
   "cell_type": "markdown",
   "metadata": {},
   "source": [
    "# Different image shapes and processes\n",
    "\n",
    "This example file shows the different image types that can be processed using `Not a name yet` package."
   ]
  },
  {
   "cell_type": "code",
   "execution_count": 1,
   "metadata": {},
   "outputs": [
    {
     "name": "stdout",
     "output_type": "stream",
     "text": [
      "1.   Single 2D image\n",
      "Your image has 2 dimensions. It contains 2 spatial dimensions. Time is False.\n",
      "Finish test. It took 4.90 seconds\n",
      "2.   Multiple 2D image\n",
      "Your image has 3 dimensions. It contains 2 spatial dimensions. Time is True.\n",
      "1/550\r"
     ]
    },
    {
     "ename": "KeyboardInterrupt",
     "evalue": "",
     "output_type": "error",
     "traceback": [
      "\u001b[1;31m---------------------------------------------------------------------------\u001b[0m",
      "\u001b[1;31mKeyboardInterrupt\u001b[0m                         Traceback (most recent call last)",
      "Cell \u001b[1;32mIn[1], line 22\u001b[0m\n\u001b[0;32m     20\u001b[0m dots2 \u001b[38;5;241m=\u001b[39m imbin(image[\u001b[38;5;241m4\u001b[39m], is2D\u001b[38;5;241m=\u001b[39m\u001b[38;5;28;01mTrue\u001b[39;00m)\n\u001b[0;32m     21\u001b[0m dots2\u001b[38;5;241m.\u001b[39mhi()\n\u001b[1;32m---> 22\u001b[0m \u001b[43mdots2\u001b[49m\u001b[38;5;241;43m.\u001b[39;49m\u001b[43mget_mask\u001b[49m\u001b[43m(\u001b[49m\u001b[43mbinshape\u001b[49m\u001b[38;5;241;43m=\u001b[39;49m\u001b[43m(\u001b[49m\u001b[38;5;241;43m2\u001b[39;49m\u001b[43m,\u001b[49m\u001b[38;5;241;43m2\u001b[39;49m\u001b[43m)\u001b[49m\u001b[43m,\u001b[49m\u001b[43m \u001b[49m\u001b[43mtimes\u001b[49m\u001b[38;5;241;43m=\u001b[39;49m\u001b[38;5;241;43m3\u001b[39;49m\u001b[43m,\u001b[49m\u001b[43m \u001b[49m\u001b[43mv\u001b[49m\u001b[38;5;241;43m=\u001b[39;49m\u001b[38;5;124;43m'\u001b[39;49m\u001b[38;5;124;43m+\u001b[39;49m\u001b[38;5;124;43m'\u001b[39;49m\u001b[43m)\u001b[49m\n\u001b[0;32m     23\u001b[0m time_end_2 \u001b[38;5;241m=\u001b[39m time\u001b[38;5;241m.\u001b[39mperf_counter()\n\u001b[0;32m     24\u001b[0m \u001b[38;5;28mprint\u001b[39m(\u001b[38;5;124mf\u001b[39m\u001b[38;5;124m\"\u001b[39m\u001b[38;5;124mFinish test. It took \u001b[39m\u001b[38;5;132;01m{\u001b[39;00mtime_end_2\u001b[38;5;241m-\u001b[39mtime_start_2\u001b[38;5;132;01m:\u001b[39;00m\u001b[38;5;124m.2f\u001b[39m\u001b[38;5;132;01m}\u001b[39;00m\u001b[38;5;124m seconds\u001b[39m\u001b[38;5;124m\"\u001b[39m)\n",
      "File \u001b[1;32md:\\Python_vscode\\binner\\binner\\binner\\binnier_class.py:588\u001b[0m, in \u001b[0;36mimbin.get_mask\u001b[1;34m(self, times, binshape, morph_close_k, morph_open_k, m_ball, v)\u001b[0m\n\u001b[0;32m    585\u001b[0m mask \u001b[38;5;241m=\u001b[39m []\n\u001b[0;32m    587\u001b[0m \u001b[38;5;28;01mif\u001b[39;00m \u001b[38;5;28mself\u001b[39m\u001b[38;5;241m.\u001b[39mdotted_image \u001b[38;5;129;01mis\u001b[39;00m \u001b[38;5;28;01mNone\u001b[39;00m:\n\u001b[1;32m--> 588\u001b[0m     \u001b[38;5;28mself\u001b[39m\u001b[38;5;241m.\u001b[39mdotted_image \u001b[38;5;241m=\u001b[39m \u001b[38;5;28;43mself\u001b[39;49m\u001b[38;5;241;43m.\u001b[39;49m\u001b[43mconv_deconv\u001b[49m\u001b[43m(\u001b[49m\u001b[43mtimes\u001b[49m\u001b[43m,\u001b[49m\u001b[43m \u001b[49m\u001b[43mbinshape\u001b[49m\u001b[43m,\u001b[49m\u001b[43m \u001b[49m\u001b[43mv\u001b[49m\u001b[43m)\u001b[49m\n\u001b[0;32m    592\u001b[0m \u001b[38;5;28;01mif\u001b[39;00m \u001b[38;5;28mself\u001b[39m\u001b[38;5;241m.\u001b[39msDim \u001b[38;5;241m==\u001b[39m \u001b[38;5;241m2\u001b[39m \u001b[38;5;129;01mand\u001b[39;00m \u001b[38;5;28mself\u001b[39m\u001b[38;5;241m.\u001b[39mtime_dim \u001b[38;5;129;01mis\u001b[39;00m \u001b[38;5;28;01mFalse\u001b[39;00m: \u001b[38;5;66;03m### CASE 2 SPACE DIMS AND 0 TIME DIMS\u001b[39;00m\n\u001b[0;32m    593\u001b[0m     coords \u001b[38;5;241m=\u001b[39m \u001b[38;5;28mself\u001b[39m\u001b[38;5;241m.\u001b[39mget_coords(\u001b[38;5;28mself\u001b[39m\u001b[38;5;241m.\u001b[39mdotted_image) \n",
      "File \u001b[1;32md:\\Python_vscode\\binner\\binner\\binner\\binnier_class.py:414\u001b[0m, in \u001b[0;36mimbin.conv_deconv\u001b[1;34m(self, times, binshape, v)\u001b[0m\n\u001b[0;32m    412\u001b[0m total \u001b[38;5;241m=\u001b[39m \u001b[38;5;28mself\u001b[39m\u001b[38;5;241m.\u001b[39mim\u001b[38;5;241m.\u001b[39mshape[\u001b[38;5;241m0\u001b[39m]\n\u001b[0;32m    413\u001b[0m \u001b[38;5;28;01mfor\u001b[39;00m i \u001b[38;5;129;01min\u001b[39;00m \u001b[38;5;28mself\u001b[39m\u001b[38;5;241m.\u001b[39mim: \u001b[38;5;66;03m# Do the convolution process for every image\u001b[39;00m\n\u001b[1;32m--> 414\u001b[0m     output\u001b[38;5;241m.\u001b[39mappend(\u001b[38;5;28;43mself\u001b[39;49m\u001b[38;5;241;43m.\u001b[39;49m\u001b[43m__conv_deconv_process_2D\u001b[49m\u001b[43m(\u001b[49m\u001b[43mi\u001b[49m\u001b[43m,\u001b[49m\u001b[43m \u001b[49m\u001b[43mtimes\u001b[49m\u001b[43m,\u001b[49m\u001b[43m \u001b[49m\u001b[43mbinshape\u001b[49m\u001b[43m)\u001b[49m)\n\u001b[0;32m    415\u001b[0m     counter \u001b[38;5;241m+\u001b[39m\u001b[38;5;241m=\u001b[39m \u001b[38;5;241m1\u001b[39m\n\u001b[0;32m    416\u001b[0m     \u001b[38;5;28mprint\u001b[39m(\u001b[38;5;124mf\u001b[39m\u001b[38;5;124m\"\u001b[39m\u001b[38;5;132;01m{\u001b[39;00mcounter\u001b[38;5;132;01m}\u001b[39;00m\u001b[38;5;124m/\u001b[39m\u001b[38;5;132;01m{\u001b[39;00mtotal\u001b[38;5;132;01m}\u001b[39;00m\u001b[38;5;124m\"\u001b[39m, end\u001b[38;5;241m=\u001b[39m\u001b[38;5;124m\"\u001b[39m\u001b[38;5;130;01m\\r\u001b[39;00m\u001b[38;5;124m\"\u001b[39m) \u001b[38;5;28;01mif\u001b[39;00m v \u001b[38;5;241m>\u001b[39m \u001b[38;5;241m0\u001b[39m \u001b[38;5;28;01melse\u001b[39;00m \u001b[38;5;28;01mNone\u001b[39;00m\n",
      "File \u001b[1;32md:\\Python_vscode\\binner\\binner\\binner\\binnier_class.py:280\u001b[0m, in \u001b[0;36mimbin.__conv_deconv_process_2D\u001b[1;34m(self, i, times, binshape, v)\u001b[0m\n\u001b[0;32m    277\u001b[0m \u001b[38;5;28mprint\u001b[39m(\u001b[38;5;124mf\u001b[39m\u001b[38;5;124m\"\u001b[39m\u001b[38;5;124mConvolving: \u001b[39m\u001b[38;5;132;01m{\u001b[39;00mc\u001b[38;5;241m+\u001b[39m\u001b[38;5;241m1\u001b[39m\u001b[38;5;132;01m}\u001b[39;00m\u001b[38;5;124m/\u001b[39m\u001b[38;5;132;01m{\u001b[39;00mtimes\u001b[38;5;132;01m}\u001b[39;00m\u001b[38;5;124m\"\u001b[39m) \u001b[38;5;28;01mif\u001b[39;00m v \u001b[38;5;241m>\u001b[39m \u001b[38;5;241m0\u001b[39m \u001b[38;5;28;01melse\u001b[39;00m \u001b[38;5;28;01mNone\u001b[39;00m\n\u001b[0;32m    278\u001b[0m \u001b[38;5;28;01mif\u001b[39;00m c \u001b[38;5;241m==\u001b[39m \u001b[38;5;241m0\u001b[39m:\n\u001b[1;32m--> 280\u001b[0m     pool_n, maxList_n, _ \u001b[38;5;241m=\u001b[39m \u001b[38;5;28;43mself\u001b[39;49m\u001b[38;5;241;43m.\u001b[39;49m\u001b[43m__poolAndMax2D\u001b[49m\u001b[43m(\u001b[49m\u001b[43mi\u001b[49m\u001b[43m,\u001b[49m\u001b[43m \u001b[49m\u001b[43mbinshape\u001b[49m\u001b[38;5;241;43m=\u001b[39;49m\u001b[43mbinshape\u001b[49m\u001b[43m)\u001b[49m\n\u001b[0;32m    281\u001b[0m \u001b[38;5;28;01melse\u001b[39;00m:\n\u001b[0;32m    282\u001b[0m     pool_n, maxList_n, _ \u001b[38;5;241m=\u001b[39m \u001b[38;5;28mself\u001b[39m\u001b[38;5;241m.\u001b[39m__poolAndMax2D(poolList[c\u001b[38;5;241m-\u001b[39m\u001b[38;5;241m1\u001b[39m], binshape\u001b[38;5;241m=\u001b[39mbinshape)\n",
      "File \u001b[1;32md:\\Python_vscode\\binner\\binner\\binner\\binnier_class.py:143\u001b[0m, in \u001b[0;36mimbin.__poolAndMax2D\u001b[1;34m(self, input, binshape, v)\u001b[0m\n\u001b[0;32m    140\u001b[0m patch \u001b[38;5;241m=\u001b[39m \u001b[38;5;28minput\u001b[39m[y:y\u001b[38;5;241m+\u001b[39mbinshape[\u001b[38;5;241m0\u001b[39m], x:x\u001b[38;5;241m+\u001b[39mbinshape[\u001b[38;5;241m1\u001b[39m]] \u001b[38;5;66;03m# Create the patch of pool dimension\u001b[39;00m\n\u001b[0;32m    141\u001b[0m poolList\u001b[38;5;241m.\u001b[39mappend(patch\u001b[38;5;241m.\u001b[39mmax()) \u001b[38;5;66;03m# Get the max value of the patch and append it to the list\u001b[39;00m\n\u001b[1;32m--> 143\u001b[0m indices \u001b[38;5;241m=\u001b[39m \u001b[43mnp\u001b[49m\u001b[38;5;241;43m.\u001b[39;49m\u001b[43munravel_index\u001b[49m\u001b[43m(\u001b[49m\u001b[43mnp\u001b[49m\u001b[38;5;241;43m.\u001b[39;49m\u001b[43margmax\u001b[49m\u001b[43m(\u001b[49m\u001b[43mpatch\u001b[49m\u001b[43m)\u001b[49m\u001b[43m,\u001b[49m\u001b[43m \u001b[49m\u001b[43mpatch\u001b[49m\u001b[38;5;241;43m.\u001b[39;49m\u001b[43mshape\u001b[49m\u001b[43m)\u001b[49m \u001b[38;5;66;03m# Find the indices of the max value\u001b[39;00m\n\u001b[0;32m    144\u001b[0m maxList[\u001b[38;5;28mint\u001b[39m(y \u001b[38;5;241m/\u001b[39m binshape[\u001b[38;5;241m0\u001b[39m])][\u001b[38;5;28mint\u001b[39m(x \u001b[38;5;241m/\u001b[39m binshape[\u001b[38;5;241m1\u001b[39m])] \u001b[38;5;241m=\u001b[39m (y \u001b[38;5;241m+\u001b[39m indices[\u001b[38;5;241m0\u001b[39m], x \u001b[38;5;241m+\u001b[39m indices[\u001b[38;5;241m1\u001b[39m]) \u001b[38;5;66;03m# Add the coordinates in the position of the patch in the list\u001b[39;00m\n\u001b[0;32m    146\u001b[0m c\u001b[38;5;241m+\u001b[39m\u001b[38;5;241m=\u001b[39m\u001b[38;5;241m1\u001b[39m\n",
      "\u001b[1;31mKeyboardInterrupt\u001b[0m: "
     ]
    }
   ],
   "source": [
    "import skimage as sk\n",
    "from dottamine import dotim\n",
    "import time\n",
    "\n",
    "image = sk.io.imread('./../domes/domes_n2v/70_denoised.tif') # 4D image\n",
    "\n",
    "print(f\"Shape of the image: {image.shape}. T Z Y X.\")\n",
    "\n",
    "# Single 2D image\n",
    "time_start_1 = time.perf_counter()\n",
    "print('1.   Single 2D image')\n",
    "dots1 = dotim(image[4][300], is2D=True)\n",
    "dots1.hi()\n",
    "dots1.get_mask(binshape=(2,2), times=3, v='+')\n",
    "time_end_1 = time.perf_counter()\n",
    "print(f\"Finish test. It took {time_end_1-time_start_1:.2f} seconds\")\n",
    "\n",
    "# Multiple 2D image\n",
    "time_start_2 = time.perf_counter()\n",
    "print('2.   Multiple 2D image')\n",
    "dots2 = dotim(image[4], is2D=True)\n",
    "dots2.hi()\n",
    "dots2.get_mask(binshape=(2,2), times=3, v='+')\n",
    "time_end_2 = time.perf_counter()\n",
    "print(f\"Finish test. It took {time_end_2-time_start_2:.2f} seconds\")\n",
    "\n",
    "# Single 3D image\n",
    "time_start_3 = time.perf_counter()\n",
    "print('3.   Single 3D image')\n",
    "dots3 = dotim(image[4], is2D=False)\n",
    "dots3.hi()\n",
    "dots3.get_mask(binshape=(2,2,2), times=3, v='+')\n",
    "time_end_3 = time.perf_counter()\n",
    "print(f\"Finish test. It took {time_end_3-time_start_3:.2f} seconds\")\n",
    "\n",
    "# Single 3D image as multiple 2D images\n",
    "time_start_4 = time.perf_counter()\n",
    "print('4.   Single 3D image as multiple 2D images')\n",
    "dots4 = dotim(image[4], is2D=False, treat_3D_as_2D=True)\n",
    "dots4.hi()\n",
    "dots4.get_mask(binshape=(2,2), times=3, v='+')\n",
    "time_end_4 = time.perf_counter()\n",
    "print(f\"Finish test. It took {time_end_4-time_start_4:.2f} seconds\")\n",
    "\n",
    "# Multiple 3D images\n",
    "time_start_5 = time.perf_counter()\n",
    "print('5.   Multiple 3D images')\n",
    "dots5 = dotim(image, is2D=False)\n",
    "dots5.hi()\n",
    "dots5.get_mask(binshape=(2,2,2), times=3, v='+')\n",
    "time_end_5 = time.perf_counter()\n",
    "print(f\"Finish test. It took {time_end_5-time_start_5:.2f} seconds\")\n",
    "\n",
    "# Multiple 3D image as multiple 2D images\n",
    "time_start_6 = time.perf_counter()\n",
    "print('6.   Multiple 3D image as multiple 2D images')\n",
    "dots6 = dotim(image, is2D=False, treat_3D_as_2D=True)\n",
    "dots6.hi()\n",
    "dots6.get_mask(binshape=(2,2,2), times=3, v='+')\n",
    "time_end_6 = time.perf_counter()\n",
    "print(f\"Finish test. It took {time_end_6-time_start_6:.2f} seconds\")\n",
    "\n"
   ]
  }
 ],
 "metadata": {
  "kernelspec": {
   "display_name": "pynapari",
   "language": "python",
   "name": "python3"
  },
  "language_info": {
   "codemirror_mode": {
    "name": "ipython",
    "version": 3
   },
   "file_extension": ".py",
   "mimetype": "text/x-python",
   "name": "python",
   "nbconvert_exporter": "python",
   "pygments_lexer": "ipython3",
   "version": "3.11.7"
  }
 },
 "nbformat": 4,
 "nbformat_minor": 2
}
