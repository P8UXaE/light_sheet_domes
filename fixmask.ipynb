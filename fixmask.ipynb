{
 "cells": [
  {
   "cell_type": "code",
   "execution_count": 1,
   "metadata": {},
   "outputs": [],
   "source": [
    "import skimage as sk\n",
    "import numpy as np\n",
    "import tifffile as tiff"
   ]
  },
  {
   "cell_type": "code",
   "execution_count": 2,
   "metadata": {},
   "outputs": [],
   "source": [
    "def normalize_image(im, mult_factor = 1):\n",
    "    norm_im = (im - im.min()) / (im.max()-im.min()) * mult_factor\n",
    "    return norm_im\n",
    "def reverse_values(im):\n",
    "    rev_im = im.max()-im\n",
    "    return rev_im\n",
    "def compare(buckled, stretched):\n",
    "    print('buckled =', buckled.sum())\n",
    "    print('stretched =', stretched.sum())\n",
    "    print('stretched/buckled =', stretched.sum()/buckled.sum())\n",
    "    return 0\n",
    "    "
   ]
  },
  {
   "cell_type": "code",
   "execution_count": 21,
   "metadata": {},
   "outputs": [],
   "source": [
    "buckled = sk.io.imread('./../ppujol/cellstosegment/32_2/segmented_borders_cell.tif')\n",
    "number = 9\n",
    "stretched = sk.io.imread('./../ppujol/cellstosegment/32_2/tp2/manual2/mask-big-gauss.tif')"
   ]
  },
  {
   "cell_type": "code",
   "execution_count": 22,
   "metadata": {},
   "outputs": [],
   "source": [
    "buckled = normalize_image(buckled, 1)\n",
    "stretched = normalize_image(stretched, 1)"
   ]
  },
  {
   "cell_type": "code",
   "execution_count": 23,
   "metadata": {},
   "outputs": [
    {
     "name": "stdout",
     "output_type": "stream",
     "text": [
      "buckled = 620012.0\n",
      "stretched = 684266.0\n",
      "stretched/buckled = 1.103633478061715\n"
     ]
    }
   ],
   "source": [
    "compare(buckled, stretched);"
   ]
  },
  {
   "cell_type": "code",
   "execution_count": 60,
   "metadata": {},
   "outputs": [],
   "source": [
    "stretched = sk.morphology.binary_closing(stretched, sk.morphology.ball(5))\n",
    "stretched = sk.morphology.binary_closing(stretched, sk.morphology.ball(5))"
   ]
  },
  {
   "cell_type": "code",
   "execution_count": 61,
   "metadata": {},
   "outputs": [],
   "source": [
    "tiff.imwrite('./../ppujol/cellstosegment/32_2/tp2/manual/mask_inter-'+str(number+1)+'.tif', stretched.astype(np.uint16), imagej=True)"
   ]
  }
 ],
 "metadata": {
  "kernelspec": {
   "display_name": "pynapari",
   "language": "python",
   "name": "python3"
  },
  "language_info": {
   "codemirror_mode": {
    "name": "ipython",
    "version": 3
   },
   "file_extension": ".py",
   "mimetype": "text/x-python",
   "name": "python",
   "nbconvert_exporter": "python",
   "pygments_lexer": "ipython3",
   "version": "3.10.12"
  }
 },
 "nbformat": 4,
 "nbformat_minor": 2
}
