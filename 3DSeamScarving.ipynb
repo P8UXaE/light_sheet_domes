{
 "cells": [
  {
   "cell_type": "code",
   "execution_count": 4,
   "metadata": {},
   "outputs": [],
   "source": [
    "from scipy.ndimage import convolve\n",
    "import skimage as sk\n",
    "import numpy as np\n",
    "import matplotlib.pyplot as plt"
   ]
  },
  {
   "cell_type": "code",
   "execution_count": 6,
   "metadata": {},
   "outputs": [],
   "source": [
    "height_mask = sk.io.imread('./../ppujol/dome70_2/maskedImage3D.tif')"
   ]
  },
  {
   "cell_type": "code",
   "execution_count": null,
   "metadata": {},
   "outputs": [],
   "source": []
  },
  {
   "cell_type": "code",
   "execution_count": 17,
   "metadata": {},
   "outputs": [
    {
     "data": {
      "text/plain": [
       "<matplotlib.image.AxesImage at 0x7ffabc870dc0>"
      ]
     },
     "execution_count": 17,
     "metadata": {},
     "output_type": "execute_result"
    },
    {
     "data": {
      "image/png": "[encoded data removed]",
      "text/plain": [
       "<Figure size 640x480 with 1 Axes>"
      ]
     },
     "metadata": {},
     "output_type": "display_data"
    }
   ],
   "source": [
    "# Seam Carving\n",
    "\n",
    "y = 430\n",
    "\n",
    "def calc_energy(img):\n",
    "    filter_du = np.array([\n",
    "        [1.0, 2.0, 1.0],\n",
    "        [0.0, 0.0, 0.0],\n",
    "        [-1.0, -2.0, -1.0],\n",
    "    ])\n",
    "\n",
    "    filter_dv = np.array([\n",
    "        [1.0, 0.0, -1.0],\n",
    "        [2.0, 0.0, -2.0],\n",
    "        [1.0, 0.0, -1.0],\n",
    "    ])\n",
    "\n",
    "    img = img.astype('float32')\n",
    "    energy_map = np.absolute(convolve(img, filter_du)) + np.absolute(convolve(img, filter_dv))\n",
    "\n",
    "    return energy_map\n",
    "\n",
    "energy = calc_energy(height_mask[y])\n",
    "\n",
    "plt.imshow(energy)\n",
    "\n",
    "\n",
    "def minimum_seam(img):\n",
    "    r, c = img.shape\n",
    "    energy_map = calc_energy(img)\n",
    "\n",
    "    M = energy_map.copy()\n",
    "    backtrack = np.zeros_like(M)\n",
    "\n",
    "    for i in range(1, r):\n",
    "        for j in range(0, c):\n",
    "            # Handle the left edge of the image, to ensure we don't index -1\n",
    "            if j == 0:\n",
    "                idx = np.argmin(M[i - 1, j:j + 2])\n",
    "                backtrack[i, j] = idx + j\n",
    "                min_energy = M[i - 1, idx + j]\n",
    "            else:\n",
    "                idx = np.argmin(M[i - 1, j - 1:j + 2])\n",
    "                backtrack[i, j] = idx + j - 1\n",
    "                min_energy = M[i - 1, idx + j - 1]\n",
    "\n",
    "            M[i, j] += min_energy\n",
    "\n",
    "    return M, backtrack\n",
    "\n",
    "\n",
    "M, backtrack = minimum_seam(height_mask[y])\n",
    "\n",
    "# plt.imshow(M)\n",
    "\n",
    "\n",
    "def carve_column(img):\n",
    "    r, c = img.shape\n",
    "\n",
    "    M, backtrack = minimum_seam(img)\n",
    "\n",
    "    # Create a (r, c) matrix filled with the value True\n",
    "    # We'll be removing all pixels from the image which\n",
    "    # have False later\n",
    "    mask = np.ones((r, c))\n",
    "\n",
    "    # Find the position of the smallest element in the\n",
    "    # last row of M\n",
    "    j = np.argmin(M[-1])\n",
    "\n",
    "    for i in reversed(range(r)):\n",
    "        # Mark the pixels for deletion\n",
    "\n",
    "        i = int(i)\n",
    "        j = int(j)\n",
    "\n",
    "        mask[i, j] = 0\n",
    "        j = backtrack[i, j]\n",
    "\n",
    "    # Since the image has 3 channels, we convert our\n",
    "    # mask to 3D\n",
    "    \n",
    "\n",
    "    # Delete all the pixels marked False in the mask,\n",
    "    # and resize it to the new image dimensions\n",
    "\n",
    "    # plt.imshow(mask)\n",
    "\n",
    "    #img = img[mask].reshape((r, c - 1))\n",
    "\n",
    "    return mask\n",
    "\n",
    "plt.imshow(carve_column(height_mask[y]))\n",
    "# \n",
    "# carve_column(np.rot90(np.argmax(height_mask)-height_mask));"
   ]
  }
 ],
 "metadata": {
  "kernelspec": {
   "display_name": "pynapari",
   "language": "python",
   "name": "python3"
  },
  "language_info": {
   "codemirror_mode": {
    "name": "ipython",
    "version": 3
   },
   "file_extension": ".py",
   "mimetype": "text/x-python",
   "name": "python",
   "nbconvert_exporter": "python",
   "pygments_lexer": "ipython3",
   "version": "3.10.12"
  }
 },
 "nbformat": 4,
 "nbformat_minor": 2
}
